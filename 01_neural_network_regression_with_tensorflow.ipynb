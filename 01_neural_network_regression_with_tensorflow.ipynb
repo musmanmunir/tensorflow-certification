{
  "nbformat": 4,
  "nbformat_minor": 0,
  "metadata": {
    "colab": {
      "provenance": []
    },
    "kernelspec": {
      "name": "python3",
      "display_name": "Python 3"
    },
    "language_info": {
      "name": "python"
    }
  },
  "cells": [
    {
      "cell_type": "markdown",
      "source": [
        "# Introduction to Regression with Neuaral Networks in TensorFlow\n",
        "\n",
        "There are many definitions for a regression problem but in our case, we are going to simplify it: predicting a numerical variable based on some other combination of variables, even shorter... predicting a number"
      ],
      "metadata": {
        "id": "LTFuMxGsw4Wg"
      }
    },
    {
      "cell_type": "code",
      "source": [
        "# Import tensorflow\n",
        "import tensorflow as tf\n",
        "print(tf.__version__)"
      ],
      "metadata": {
        "colab": {
          "base_uri": "https://localhost:8080/"
        },
        "id": "cW4vmgXHzlg7",
        "outputId": "8503f810-d92f-4ae7-f0a2-b8d5b84a28ee"
      },
      "execution_count": 2,
      "outputs": [
        {
          "output_type": "stream",
          "name": "stdout",
          "text": [
            "2.15.0\n"
          ]
        }
      ]
    },
    {
      "cell_type": "markdown",
      "source": [
        "## Creating data to view and fit"
      ],
      "metadata": {
        "id": "TJ9BlgNJzxbc"
      }
    },
    {
      "cell_type": "code",
      "source": [
        "import numpy as np\n",
        "import matplotlib.pyplot as plt\n",
        "\n",
        "# Create features\n",
        "x = np.array([-7.0, -4.0, -1.0, 2.0, 5.0, 8.0, 11.0, 14.0])\n",
        "\n",
        "# Create labels\n",
        "y = np.array([3.0, 6.0, 9.0, 12.0, 15.0, 18.0, 21.0, 24.0])\n",
        "\n",
        "# Visualize it\n",
        "plt.scatter(x, y)"
      ],
      "metadata": {
        "colab": {
          "base_uri": "https://localhost:8080/",
          "height": 453
        },
        "id": "UzBJaxtB0AOt",
        "outputId": "2e2c0a83-1eae-40ed-c7f6-ccd566a32535"
      },
      "execution_count": 3,
      "outputs": [
        {
          "output_type": "execute_result",
          "data": {
            "text/plain": [
              "<matplotlib.collections.PathCollection at 0x7be585ce6f20>"
            ]
          },
          "metadata": {},
          "execution_count": 3
        },
        {
          "output_type": "display_data",
          "data": {
            "text/plain": [
              "<Figure size 640x480 with 1 Axes>"
            ],
            "image/png": "[encoded data removed]"
          },
          "metadata": {}
        }
      ]
    },
    {
      "cell_type": "code",
      "source": [
        "y == x + 10"
      ],
      "metadata": {
        "colab": {
          "base_uri": "https://localhost:8080/"
        },
        "id": "ymDRJN5_0c66",
        "outputId": "f5dd8f07-0650-49c7-e642-527dd2cdff62"
      },
      "execution_count": 4,
      "outputs": [
        {
          "output_type": "execute_result",
          "data": {
            "text/plain": [
              "array([ True,  True,  True,  True,  True,  True,  True,  True])"
            ]
          },
          "metadata": {},
          "execution_count": 4
        }
      ]
    },
    {
      "cell_type": "markdown",
      "source": [
        "## Input and Output Shapes"
      ],
      "metadata": {
        "id": "g-QmNN3B0dXc"
      }
    },
    {
      "cell_type": "code",
      "source": [
        "# Create a demo tensor for our housing price prediction problem\n",
        "house_info = tf.constant([\"bedroom\", \"bathroom\", \"garage\"])\n",
        "house_price = tf.constant([939700])\n",
        "house_info, house_price"
      ],
      "metadata": {
        "colab": {
          "base_uri": "https://localhost:8080/"
        },
        "id": "uJoUFMrp07aK",
        "outputId": "c25a947a-ba1d-4d5b-c792-fede77befe20"
      },
      "execution_count": 5,
      "outputs": [
        {
          "output_type": "execute_result",
          "data": {
            "text/plain": [
              "(<tf.Tensor: shape=(3,), dtype=string, numpy=array([b'bedroom', b'bathroom', b'garage'], dtype=object)>,\n",
              " <tf.Tensor: shape=(1,), dtype=int32, numpy=array([939700], dtype=int32)>)"
            ]
          },
          "metadata": {},
          "execution_count": 5
        }
      ]
    },
    {
      "cell_type": "code",
      "source": [
        "x[0], y[0]"
      ],
      "metadata": {
        "colab": {
          "base_uri": "https://localhost:8080/"
        },
        "id": "HQqR_oRX108k",
        "outputId": "f3455282-2278-4a05-a6ea-ebd463b8222c"
      },
      "execution_count": 6,
      "outputs": [
        {
          "output_type": "execute_result",
          "data": {
            "text/plain": [
              "(-7.0, 3.0)"
            ]
          },
          "metadata": {},
          "execution_count": 6
        }
      ]
    },
    {
      "cell_type": "code",
      "source": [
        "x[1], y[1]"
      ],
      "metadata": {
        "colab": {
          "base_uri": "https://localhost:8080/"
        },
        "id": "Vdz_6lUN10yM",
        "outputId": "78574620-1311-4360-97b0-d1c79974b030"
      },
      "execution_count": 7,
      "outputs": [
        {
          "output_type": "execute_result",
          "data": {
            "text/plain": [
              "(-4.0, 6.0)"
            ]
          },
          "metadata": {},
          "execution_count": 7
        }
      ]
    },
    {
      "cell_type": "code",
      "source": [
        "input_shape = x[0].shape\n",
        "output_shape = y[0].shape\n",
        "input_shape, output_shape"
      ],
      "metadata": {
        "colab": {
          "base_uri": "https://localhost:8080/"
        },
        "id": "vyu-NfY507FD",
        "outputId": "1a195c2b-52b1-4878-fda2-d08548f83714"
      },
      "execution_count": 8,
      "outputs": [
        {
          "output_type": "execute_result",
          "data": {
            "text/plain": [
              "((), ())"
            ]
          },
          "metadata": {},
          "execution_count": 8
        }
      ]
    },
    {
      "cell_type": "code",
      "source": [
        "x[0].ndim"
      ],
      "metadata": {
        "colab": {
          "base_uri": "https://localhost:8080/"
        },
        "id": "BaVUOHfE1m28",
        "outputId": "6325775f-9dec-46aa-892d-30151e0f9045"
      },
      "execution_count": 9,
      "outputs": [
        {
          "output_type": "execute_result",
          "data": {
            "text/plain": [
              "0"
            ]
          },
          "metadata": {},
          "execution_count": 9
        }
      ]
    },
    {
      "cell_type": "code",
      "source": [
        "x[0], y[0]"
      ],
      "metadata": {
        "colab": {
          "base_uri": "https://localhost:8080/"
        },
        "id": "S1TZG0oE2Euo",
        "outputId": "975769a7-e0a6-4bb2-afce-9f97e5261a87"
      },
      "execution_count": 10,
      "outputs": [
        {
          "output_type": "execute_result",
          "data": {
            "text/plain": [
              "(-7.0, 3.0)"
            ]
          },
          "metadata": {},
          "execution_count": 10
        }
      ]
    },
    {
      "cell_type": "code",
      "source": [
        "# Turn our NumPy arrays into tensors with dtype float32\n",
        "x = tf.cast(tf.constant(x), dtype=tf.float32)\n",
        "y = tf.cast(tf.constant(y), dtype=tf.float32)\n",
        "x, y"
      ],
      "metadata": {
        "id": "aQkh_DJ42JHR",
        "colab": {
          "base_uri": "https://localhost:8080/"
        },
        "outputId": "9bc70597-58b2-4be6-99d8-4eff342b9a16"
      },
      "execution_count": 11,
      "outputs": [
        {
          "output_type": "execute_result",
          "data": {
            "text/plain": [
              "(<tf.Tensor: shape=(8,), dtype=float32, numpy=array([-7., -4., -1.,  2.,  5.,  8., 11., 14.], dtype=float32)>,\n",
              " <tf.Tensor: shape=(8,), dtype=float32, numpy=array([ 3.,  6.,  9., 12., 15., 18., 21., 24.], dtype=float32)>)"
            ]
          },
          "metadata": {},
          "execution_count": 11
        }
      ]
    },
    {
      "cell_type": "code",
      "source": [
        "input_shape = x[0].shape\n",
        "output_shape = y[0].shape\n",
        "input_shape, output_shape"
      ],
      "metadata": {
        "colab": {
          "base_uri": "https://localhost:8080/"
        },
        "id": "vo8Sr1YT-MYq",
        "outputId": "9a8d862b-dfe8-4a52-ab45-35ce56c9490e"
      },
      "execution_count": 12,
      "outputs": [
        {
          "output_type": "execute_result",
          "data": {
            "text/plain": [
              "(TensorShape([]), TensorShape([]))"
            ]
          },
          "metadata": {},
          "execution_count": 12
        }
      ]
    },
    {
      "cell_type": "code",
      "source": [
        "plt.scatter(x, y)"
      ],
      "metadata": {
        "colab": {
          "base_uri": "https://localhost:8080/",
          "height": 453
        },
        "id": "c64piOpf-mF-",
        "outputId": "435166d4-6518-425c-ee8b-ec1a94fd8ec4"
      },
      "execution_count": 13,
      "outputs": [
        {
          "output_type": "execute_result",
          "data": {
            "text/plain": [
              "<matplotlib.collections.PathCollection at 0x7be583c2a050>"
            ]
          },
          "metadata": {},
          "execution_count": 13
        },
        {
          "output_type": "display_data",
          "data": {
            "text/plain": [
              "<Figure size 640x480 with 1 Axes>"
            ],
            "image/png": "[encoded data removed]"
          },
          "metadata": {}
        }
      ]
    },
    {
      "cell_type": "code",
      "source": [
        "plt.scatter(x, y)"
      ],
      "metadata": {
        "colab": {
          "base_uri": "https://localhost:8080/",
          "height": 453
        },
        "id": "oUouY5nn-qXq",
        "outputId": "93171cde-9d1a-473b-f83c-661b8622e1a2"
      },
      "execution_count": 14,
      "outputs": [
        {
          "output_type": "execute_result",
          "data": {
            "text/plain": [
              "<matplotlib.collections.PathCollection at 0x7be583c96380>"
            ]
          },
          "metadata": {},
          "execution_count": 14
        },
        {
          "output_type": "display_data",
          "data": {
            "text/plain": [
              "<Figure size 640x480 with 1 Axes>"
            ],
            "image/png": "[encoded data removed]"
          },
          "metadata": {}
        }
      ]
    },
    {
      "cell_type": "markdown",
      "source": [
        "## Steps in modelling with TensorFlow\n",
        "\n",
        "1. **Creating a model** - define the input and output layers, as well as the hidden layers of a deep learning model\n",
        "\n",
        "2. **Compiling a model** - define a loss function (in other words, the function which tells our model how wrong it is) and the optimizer (tells our model how to improve the patterns its learning) and evaluation metrics (what we can use to interpret the performance of our model).\n",
        "\n",
        "3. **Fitting a model** - Letting the model try to find patterns between x & y (features and labels)."
      ],
      "metadata": {
        "id": "OC7ZWWWB_C6C"
      }
    },
    {
      "cell_type": "code",
      "source": [
        "# Reshape your input data to be 2D\n",
        "x_reshaped = tf.reshape(x, [-1, 1])  # Use tf.reshape to reshape the EagerTensor\n",
        "\n",
        "# Set random seed\n",
        "tf.random.set_seed(42)\n",
        "\n",
        "# 1. Create a model using Sequential API\n",
        "model = tf.keras.Sequential([\n",
        "    tf.keras.layers.Dense(1)\n",
        "])\n",
        "\n",
        "# 2. Compile the model\n",
        "model.compile(loss=tf.keras.losses.mae, # mae is short for mean absolute error\n",
        "              optimizer=tf.keras.optimizers.SGD(), # SGD is short for stochastic gradient descent\n",
        "              metrics=[\"mae\"])\n",
        "\n",
        "# 3. Fit the model using the reshaped input\n",
        "model.fit(x_reshaped, y, epochs=5)  # Use x_reshaped instead of x"
      ],
      "metadata": {
        "colab": {
          "base_uri": "https://localhost:8080/"
        },
        "id": "YRU1UEmhAE8h",
        "outputId": "885c4d3e-cda3-4f2a-fa51-e5a5df8af9be"
      },
      "execution_count": 15,
      "outputs": [
        {
          "output_type": "stream",
          "name": "stdout",
          "text": [
            "Epoch 1/5\n",
            "1/1 [==============================] - 1s 619ms/step - loss: 7.5239 - mae: 7.5239\n",
            "Epoch 2/5\n",
            "1/1 [==============================] - 0s 14ms/step - loss: 7.4925 - mae: 7.4925\n",
            "Epoch 3/5\n",
            "1/1 [==============================] - 0s 16ms/step - loss: 7.4869 - mae: 7.4869\n",
            "Epoch 4/5\n",
            "1/1 [==============================] - 0s 13ms/step - loss: 7.4813 - mae: 7.4813\n",
            "Epoch 5/5\n",
            "1/1 [==============================] - 0s 12ms/step - loss: 7.4756 - mae: 7.4756\n"
          ]
        },
        {
          "output_type": "execute_result",
          "data": {
            "text/plain": [
              "<keras.src.callbacks.History at 0x7be580a3a5f0>"
            ]
          },
          "metadata": {},
          "execution_count": 15
        }
      ]
    },
    {
      "cell_type": "code",
      "source": [
        "# Check out reshaped_x and y\n",
        "x_reshaped, y"
      ],
      "metadata": {
        "colab": {
          "base_uri": "https://localhost:8080/"
        },
        "id": "-zSbpOZaCtMK",
        "outputId": "9cd9159d-86a1-442f-bc6e-6efe12cf9c0f"
      },
      "execution_count": 16,
      "outputs": [
        {
          "output_type": "execute_result",
          "data": {
            "text/plain": [
              "(<tf.Tensor: shape=(8, 1), dtype=float32, numpy=\n",
              " array([[-7.],\n",
              "        [-4.],\n",
              "        [-1.],\n",
              "        [ 2.],\n",
              "        [ 5.],\n",
              "        [ 8.],\n",
              "        [11.],\n",
              "        [14.]], dtype=float32)>,\n",
              " <tf.Tensor: shape=(8,), dtype=float32, numpy=array([ 3.,  6.,  9., 12., 15., 18., 21., 24.], dtype=float32)>)"
            ]
          },
          "metadata": {},
          "execution_count": 16
        }
      ]
    },
    {
      "cell_type": "code",
      "source": [
        "# Try to make a prediction using our model\n",
        "y_pred = model.predict([17.0])\n",
        "y_pred"
      ],
      "metadata": {
        "colab": {
          "base_uri": "https://localhost:8080/"
        },
        "id": "4V5d4k9_FgNZ",
        "outputId": "87241f4d-6ca0-4626-b5da-83876896a980"
      },
      "execution_count": 17,
      "outputs": [
        {
          "output_type": "stream",
          "name": "stdout",
          "text": [
            "1/1 [==============================] - 0s 109ms/step\n"
          ]
        },
        {
          "output_type": "execute_result",
          "data": {
            "text/plain": [
              "array([[29.661789]], dtype=float32)"
            ]
          },
          "metadata": {},
          "execution_count": 17
        }
      ]
    },
    {
      "cell_type": "code",
      "source": [
        "y_pred + 11"
      ],
      "metadata": {
        "colab": {
          "base_uri": "https://localhost:8080/"
        },
        "id": "O8YexzKZFxCA",
        "outputId": "5d6a559e-f96b-44de-e67f-277ed11bef69"
      },
      "execution_count": 18,
      "outputs": [
        {
          "output_type": "execute_result",
          "data": {
            "text/plain": [
              "array([[40.66179]], dtype=float32)"
            ]
          },
          "metadata": {},
          "execution_count": 18
        }
      ]
    },
    {
      "cell_type": "markdown",
      "source": [
        "## Improving our model\n",
        "\n",
        "We can improve our model, by altering the steps we took to create a model.\n",
        "\n",
        "1. **Creating a model** - here we might add more layers, increase the number of hidden units (all called neurons) within each of the hidden layers, change the activation function of each layer.\n",
        "\n",
        "2. **Compiling a model** - here we might change the optimization function or perhaps the **learning rate** of the optimnization function\n",
        "\n",
        "3. **Fitting the model** - here we might fit a model for more **epochs** (leave it training for longer) or on more data (give the model more example to learn from)."
      ],
      "metadata": {
        "id": "ZbZgHCejGGSq"
      }
    },
    {
      "cell_type": "code",
      "source": [
        "# Reshape your input data to be 2D\n",
        "x_reshaped = tf.reshape(x, [-1, 1])  # Use tf.reshape to reshape the EagerTensor\n",
        "\n",
        "# Set random seed\n",
        "tf.random.set_seed(42)\n",
        "\n",
        "# 1. Create a model using Sequential API\n",
        "model = tf.keras.Sequential([\n",
        "    tf.keras.layers.Dense(1)\n",
        "])\n",
        "\n",
        "# 2. Compile the model\n",
        "model.compile(loss=tf.keras.losses.mae, # mae is short for mean absolute error\n",
        "              optimizer=tf.keras.optimizers.SGD(), # SGD is short for stochastic gradient descent\n",
        "              metrics=[\"mae\"])\n",
        "\n",
        "# 3. Fit the model using the reshaped input\n",
        "model.fit(x_reshaped, y, epochs=100)  # Use x_reshaped instead of x"
      ],
      "metadata": {
        "id": "6prTMmnBGMom",
        "colab": {
          "base_uri": "https://localhost:8080/"
        },
        "outputId": "dd20424c-b9bc-42f8-f171-450fc0f741f4"
      },
      "execution_count": 19,
      "outputs": [
        {
          "output_type": "stream",
          "name": "stdout",
          "text": [
            "Epoch 1/100\n",
            "1/1 [==============================] - 0s 488ms/step - loss: 11.5818 - mae: 11.5818\n",
            "Epoch 2/100\n",
            "1/1 [==============================] - 0s 12ms/step - loss: 11.4493 - mae: 11.4493\n",
            "Epoch 3/100\n",
            "1/1 [==============================] - 0s 18ms/step - loss: 11.3168 - mae: 11.3168\n",
            "Epoch 4/100\n",
            "1/1 [==============================] - 0s 18ms/step - loss: 11.1843 - mae: 11.1843\n",
            "Epoch 5/100\n",
            "1/1 [==============================] - 0s 12ms/step - loss: 11.0518 - mae: 11.0518\n",
            "Epoch 6/100\n",
            "1/1 [==============================] - 0s 11ms/step - loss: 10.9193 - mae: 10.9193\n",
            "Epoch 7/100\n",
            "1/1 [==============================] - 0s 10ms/step - loss: 10.7868 - mae: 10.7868\n",
            "Epoch 8/100\n",
            "1/1 [==============================] - 0s 14ms/step - loss: 10.6543 - mae: 10.6543\n",
            "Epoch 9/100\n",
            "1/1 [==============================] - 0s 13ms/step - loss: 10.5218 - mae: 10.5218\n",
            "Epoch 10/100\n",
            "1/1 [==============================] - 0s 14ms/step - loss: 10.3893 - mae: 10.3893\n",
            "Epoch 11/100\n",
            "1/1 [==============================] - 0s 10ms/step - loss: 10.2568 - mae: 10.2568\n",
            "Epoch 12/100\n",
            "1/1 [==============================] - 0s 11ms/step - loss: 10.1243 - mae: 10.1243\n",
            "Epoch 13/100\n",
            "1/1 [==============================] - 0s 15ms/step - loss: 9.9918 - mae: 9.9918\n",
            "Epoch 14/100\n",
            "1/1 [==============================] - 0s 10ms/step - loss: 9.8593 - mae: 9.8593\n",
            "Epoch 15/100\n",
            "1/1 [==============================] - 0s 11ms/step - loss: 9.7268 - mae: 9.7268\n",
            "Epoch 16/100\n",
            "1/1 [==============================] - 0s 12ms/step - loss: 9.5943 - mae: 9.5943\n",
            "Epoch 17/100\n",
            "1/1 [==============================] - 0s 11ms/step - loss: 9.4618 - mae: 9.4618\n",
            "Epoch 18/100\n",
            "1/1 [==============================] - 0s 12ms/step - loss: 9.3293 - mae: 9.3293\n",
            "Epoch 19/100\n",
            "1/1 [==============================] - 0s 13ms/step - loss: 9.1968 - mae: 9.1968\n",
            "Epoch 20/100\n",
            "1/1 [==============================] - 0s 11ms/step - loss: 9.0643 - mae: 9.0643\n",
            "Epoch 21/100\n",
            "1/1 [==============================] - 0s 20ms/step - loss: 8.9318 - mae: 8.9318\n",
            "Epoch 22/100\n",
            "1/1 [==============================] - 0s 12ms/step - loss: 8.7993 - mae: 8.7993\n",
            "Epoch 23/100\n",
            "1/1 [==============================] - 0s 12ms/step - loss: 8.6668 - mae: 8.6668\n",
            "Epoch 24/100\n",
            "1/1 [==============================] - 0s 16ms/step - loss: 8.5343 - mae: 8.5343\n",
            "Epoch 25/100\n",
            "1/1 [==============================] - 0s 12ms/step - loss: 8.4018 - mae: 8.4018\n",
            "Epoch 26/100\n",
            "1/1 [==============================] - 0s 12ms/step - loss: 8.2693 - mae: 8.2693\n",
            "Epoch 27/100\n",
            "1/1 [==============================] - 0s 13ms/step - loss: 8.1368 - mae: 8.1368\n",
            "Epoch 28/100\n",
            "1/1 [==============================] - 0s 13ms/step - loss: 8.0043 - mae: 8.0043\n",
            "Epoch 29/100\n",
            "1/1 [==============================] - 0s 14ms/step - loss: 7.8718 - mae: 7.8718\n",
            "Epoch 30/100\n",
            "1/1 [==============================] - 0s 14ms/step - loss: 7.7393 - mae: 7.7393\n",
            "Epoch 31/100\n",
            "1/1 [==============================] - 0s 12ms/step - loss: 7.6068 - mae: 7.6068\n",
            "Epoch 32/100\n",
            "1/1 [==============================] - 0s 15ms/step - loss: 7.4743 - mae: 7.4743\n",
            "Epoch 33/100\n",
            "1/1 [==============================] - 0s 14ms/step - loss: 7.3418 - mae: 7.3418\n",
            "Epoch 34/100\n",
            "1/1 [==============================] - 0s 14ms/step - loss: 7.2525 - mae: 7.2525\n",
            "Epoch 35/100\n",
            "1/1 [==============================] - 0s 14ms/step - loss: 7.2469 - mae: 7.2469\n",
            "Epoch 36/100\n",
            "1/1 [==============================] - 0s 17ms/step - loss: 7.2413 - mae: 7.2413\n",
            "Epoch 37/100\n",
            "1/1 [==============================] - 0s 14ms/step - loss: 7.2356 - mae: 7.2356\n",
            "Epoch 38/100\n",
            "1/1 [==============================] - 0s 14ms/step - loss: 7.2300 - mae: 7.2300\n",
            "Epoch 39/100\n",
            "1/1 [==============================] - 0s 15ms/step - loss: 7.2244 - mae: 7.2244\n",
            "Epoch 40/100\n",
            "1/1 [==============================] - 0s 14ms/step - loss: 7.2188 - mae: 7.2188\n",
            "Epoch 41/100\n",
            "1/1 [==============================] - 0s 14ms/step - loss: 7.2131 - mae: 7.2131\n",
            "Epoch 42/100\n",
            "1/1 [==============================] - 0s 19ms/step - loss: 7.2075 - mae: 7.2075\n",
            "Epoch 43/100\n",
            "1/1 [==============================] - 0s 14ms/step - loss: 7.2019 - mae: 7.2019\n",
            "Epoch 44/100\n",
            "1/1 [==============================] - 0s 15ms/step - loss: 7.1962 - mae: 7.1962\n",
            "Epoch 45/100\n",
            "1/1 [==============================] - 0s 20ms/step - loss: 7.1906 - mae: 7.1906\n",
            "Epoch 46/100\n",
            "1/1 [==============================] - 0s 18ms/step - loss: 7.1850 - mae: 7.1850\n",
            "Epoch 47/100\n",
            "1/1 [==============================] - 0s 18ms/step - loss: 7.1794 - mae: 7.1794\n",
            "Epoch 48/100\n",
            "1/1 [==============================] - 0s 12ms/step - loss: 7.1738 - mae: 7.1738\n",
            "Epoch 49/100\n",
            "1/1 [==============================] - 0s 12ms/step - loss: 7.1681 - mae: 7.1681\n",
            "Epoch 50/100\n",
            "1/1 [==============================] - 0s 11ms/step - loss: 7.1625 - mae: 7.1625\n",
            "Epoch 51/100\n",
            "1/1 [==============================] - 0s 16ms/step - loss: 7.1569 - mae: 7.1569\n",
            "Epoch 52/100\n",
            "1/1 [==============================] - 0s 18ms/step - loss: 7.1512 - mae: 7.1512\n",
            "Epoch 53/100\n",
            "1/1 [==============================] - 0s 18ms/step - loss: 7.1456 - mae: 7.1456\n",
            "Epoch 54/100\n",
            "1/1 [==============================] - 0s 19ms/step - loss: 7.1400 - mae: 7.1400\n",
            "Epoch 55/100\n",
            "1/1 [==============================] - 0s 15ms/step - loss: 7.1344 - mae: 7.1344\n",
            "Epoch 56/100\n",
            "1/1 [==============================] - 0s 14ms/step - loss: 7.1288 - mae: 7.1288\n",
            "Epoch 57/100\n",
            "1/1 [==============================] - 0s 12ms/step - loss: 7.1231 - mae: 7.1231\n",
            "Epoch 58/100\n",
            "1/1 [==============================] - 0s 25ms/step - loss: 7.1175 - mae: 7.1175\n",
            "Epoch 59/100\n",
            "1/1 [==============================] - 0s 27ms/step - loss: 7.1119 - mae: 7.1119\n",
            "Epoch 60/100\n",
            "1/1 [==============================] - 0s 23ms/step - loss: 7.1063 - mae: 7.1063\n",
            "Epoch 61/100\n",
            "1/1 [==============================] - 0s 16ms/step - loss: 7.1006 - mae: 7.1006\n",
            "Epoch 62/100\n",
            "1/1 [==============================] - 0s 18ms/step - loss: 7.0950 - mae: 7.0950\n",
            "Epoch 63/100\n",
            "1/1 [==============================] - 0s 21ms/step - loss: 7.0894 - mae: 7.0894\n",
            "Epoch 64/100\n",
            "1/1 [==============================] - 0s 27ms/step - loss: 7.0838 - mae: 7.0838\n",
            "Epoch 65/100\n",
            "1/1 [==============================] - 0s 24ms/step - loss: 7.0781 - mae: 7.0781\n",
            "Epoch 66/100\n",
            "1/1 [==============================] - 0s 16ms/step - loss: 7.0725 - mae: 7.0725\n",
            "Epoch 67/100\n",
            "1/1 [==============================] - 0s 25ms/step - loss: 7.0669 - mae: 7.0669\n",
            "Epoch 68/100\n",
            "1/1 [==============================] - 0s 22ms/step - loss: 7.0613 - mae: 7.0613\n",
            "Epoch 69/100\n",
            "1/1 [==============================] - 0s 21ms/step - loss: 7.0556 - mae: 7.0556\n",
            "Epoch 70/100\n",
            "1/1 [==============================] - 0s 26ms/step - loss: 7.0500 - mae: 7.0500\n",
            "Epoch 71/100\n",
            "1/1 [==============================] - 0s 19ms/step - loss: 7.0444 - mae: 7.0444\n",
            "Epoch 72/100\n",
            "1/1 [==============================] - 0s 18ms/step - loss: 7.0388 - mae: 7.0388\n",
            "Epoch 73/100\n",
            "1/1 [==============================] - 0s 23ms/step - loss: 7.0331 - mae: 7.0331\n",
            "Epoch 74/100\n",
            "1/1 [==============================] - 0s 21ms/step - loss: 7.0275 - mae: 7.0275\n",
            "Epoch 75/100\n",
            "1/1 [==============================] - 0s 27ms/step - loss: 7.0219 - mae: 7.0219\n",
            "Epoch 76/100\n",
            "1/1 [==============================] - 0s 20ms/step - loss: 7.0163 - mae: 7.0163\n",
            "Epoch 77/100\n",
            "1/1 [==============================] - 0s 22ms/step - loss: 7.0106 - mae: 7.0106\n",
            "Epoch 78/100\n",
            "1/1 [==============================] - 0s 23ms/step - loss: 7.0050 - mae: 7.0050\n",
            "Epoch 79/100\n",
            "1/1 [==============================] - 0s 22ms/step - loss: 6.9994 - mae: 6.9994\n",
            "Epoch 80/100\n",
            "1/1 [==============================] - 0s 20ms/step - loss: 6.9938 - mae: 6.9938\n",
            "Epoch 81/100\n",
            "1/1 [==============================] - 0s 15ms/step - loss: 6.9881 - mae: 6.9881\n",
            "Epoch 82/100\n",
            "1/1 [==============================] - 0s 20ms/step - loss: 6.9825 - mae: 6.9825\n",
            "Epoch 83/100\n",
            "1/1 [==============================] - 0s 22ms/step - loss: 6.9769 - mae: 6.9769\n",
            "Epoch 84/100\n",
            "1/1 [==============================] - 0s 23ms/step - loss: 6.9713 - mae: 6.9713\n",
            "Epoch 85/100\n",
            "1/1 [==============================] - 0s 20ms/step - loss: 6.9656 - mae: 6.9656\n",
            "Epoch 86/100\n",
            "1/1 [==============================] - 0s 21ms/step - loss: 6.9600 - mae: 6.9600\n",
            "Epoch 87/100\n",
            "1/1 [==============================] - 0s 23ms/step - loss: 6.9544 - mae: 6.9544\n",
            "Epoch 88/100\n",
            "1/1 [==============================] - 0s 19ms/step - loss: 6.9488 - mae: 6.9488\n",
            "Epoch 89/100\n",
            "1/1 [==============================] - 0s 14ms/step - loss: 6.9431 - mae: 6.9431\n",
            "Epoch 90/100\n",
            "1/1 [==============================] - 0s 21ms/step - loss: 6.9375 - mae: 6.9375\n",
            "Epoch 91/100\n",
            "1/1 [==============================] - 0s 16ms/step - loss: 6.9319 - mae: 6.9319\n",
            "Epoch 92/100\n",
            "1/1 [==============================] - 0s 11ms/step - loss: 6.9263 - mae: 6.9263\n",
            "Epoch 93/100\n",
            "1/1 [==============================] - 0s 20ms/step - loss: 6.9206 - mae: 6.9206\n",
            "Epoch 94/100\n",
            "1/1 [==============================] - 0s 23ms/step - loss: 6.9150 - mae: 6.9150\n",
            "Epoch 95/100\n",
            "1/1 [==============================] - 0s 24ms/step - loss: 6.9094 - mae: 6.9094\n",
            "Epoch 96/100\n",
            "1/1 [==============================] - 0s 27ms/step - loss: 6.9038 - mae: 6.9038\n",
            "Epoch 97/100\n",
            "1/1 [==============================] - 0s 23ms/step - loss: 6.8981 - mae: 6.8981\n",
            "Epoch 98/100\n",
            "1/1 [==============================] - 0s 20ms/step - loss: 6.8925 - mae: 6.8925\n",
            "Epoch 99/100\n",
            "1/1 [==============================] - 0s 24ms/step - loss: 6.8869 - mae: 6.8869\n",
            "Epoch 100/100\n",
            "1/1 [==============================] - 0s 24ms/step - loss: 6.8813 - mae: 6.8813\n"
          ]
        },
        {
          "output_type": "execute_result",
          "data": {
            "text/plain": [
              "<keras.src.callbacks.History at 0x7be57bfce0e0>"
            ]
          },
          "metadata": {},
          "execution_count": 19
        }
      ]
    },
    {
      "cell_type": "code",
      "source": [
        "# Lets see if our model's prediction has improved...\n",
        "model.predict([17.0])"
      ],
      "metadata": {
        "colab": {
          "base_uri": "https://localhost:8080/"
        },
        "id": "qVt3Pzso86Rj",
        "outputId": "6bed7b02-bb21-4c67-8b5c-fc726761ab32"
      },
      "execution_count": 20,
      "outputs": [
        {
          "output_type": "stream",
          "name": "stdout",
          "text": [
            "1/1 [==============================] - 0s 130ms/step\n"
          ]
        },
        {
          "output_type": "execute_result",
          "data": {
            "text/plain": [
              "array([[29.784462]], dtype=float32)"
            ]
          },
          "metadata": {},
          "execution_count": 20
        }
      ]
    },
    {
      "cell_type": "code",
      "source": [
        "# Lets see if we can make another to improve our model\n",
        "# Changing layers to 50\n",
        "# changing activation to none\n",
        "# Change the optimizer to Adam\n",
        "# introduce learning rate to 0.01\n",
        "\n",
        "# 1. Create a model (this time with an extra hidden layer with 100 hidden units)\n",
        "\n",
        "# Reshape your input data to be 2D\n",
        "x_reshaped = tf.reshape(x, [-1, 1])  # Use tf.reshape to reshape the EagerTensor\n",
        "\n",
        "# Set random seed\n",
        "tf.random.set_seed(42)\n",
        "\n",
        "# 1. Create a model using Sequential API\n",
        "model = tf.keras.Sequential([\n",
        "    tf.keras.layers.Dense(50, activation=None),\n",
        "    tf.keras.layers.Dense(1)\n",
        "])\n",
        "\n",
        "# 2. Compile the model\n",
        "model.compile(loss=\"mae\", # mae is short for mean absolute error #just writing mae is enough\n",
        "              optimizer=tf.keras.optimizers.Adam(lr=0.01), # SGD is short for stochastic gradient descent\n",
        "              metrics=[\"mae\"])\n",
        "\n",
        "# 3. Fit the model using the reshaped input\n",
        "model.fit(x_reshaped, y, epochs=100)  # Use x_reshaped instead of x"
      ],
      "metadata": {
        "colab": {
          "base_uri": "https://localhost:8080/"
        },
        "id": "NKZJiawm9TrV",
        "outputId": "7b03a747-1e86-46d3-f12e-a312e8e76232"
      },
      "execution_count": 25,
      "outputs": [
        {
          "output_type": "stream",
          "name": "stderr",
          "text": [
            "WARNING:absl:`lr` is deprecated in Keras optimizer, please use `learning_rate` or use the legacy optimizer, e.g.,tf.keras.optimizers.legacy.Adam.\n"
          ]
        },
        {
          "output_type": "stream",
          "name": "stdout",
          "text": [
            "Epoch 1/100\n",
            "1/1 [==============================] - 1s 641ms/step - loss: 14.9280 - mae: 14.9280\n",
            "Epoch 2/100\n",
            "1/1 [==============================] - 0s 12ms/step - loss: 14.8606 - mae: 14.8606\n",
            "Epoch 3/100\n",
            "1/1 [==============================] - 0s 11ms/step - loss: 14.7933 - mae: 14.7933\n",
            "Epoch 4/100\n",
            "1/1 [==============================] - 0s 12ms/step - loss: 14.7261 - mae: 14.7261\n",
            "Epoch 5/100\n",
            "1/1 [==============================] - 0s 13ms/step - loss: 14.6590 - mae: 14.6590\n",
            "Epoch 6/100\n",
            "1/1 [==============================] - 0s 11ms/step - loss: 14.5920 - mae: 14.5920\n",
            "Epoch 7/100\n",
            "1/1 [==============================] - 0s 13ms/step - loss: 14.5251 - mae: 14.5251\n",
            "Epoch 8/100\n",
            "1/1 [==============================] - 0s 12ms/step - loss: 14.4583 - mae: 14.4583\n",
            "Epoch 9/100\n",
            "1/1 [==============================] - 0s 12ms/step - loss: 14.3915 - mae: 14.3915\n",
            "Epoch 10/100\n",
            "1/1 [==============================] - 0s 15ms/step - loss: 14.3248 - mae: 14.3248\n",
            "Epoch 11/100\n",
            "1/1 [==============================] - 0s 12ms/step - loss: 14.2582 - mae: 14.2582\n",
            "Epoch 12/100\n",
            "1/1 [==============================] - 0s 12ms/step - loss: 14.1916 - mae: 14.1916\n",
            "Epoch 13/100\n",
            "1/1 [==============================] - 0s 18ms/step - loss: 14.1250 - mae: 14.1250\n",
            "Epoch 14/100\n",
            "1/1 [==============================] - 0s 13ms/step - loss: 14.0584 - mae: 14.0584\n",
            "Epoch 15/100\n",
            "1/1 [==============================] - 0s 12ms/step - loss: 13.9919 - mae: 13.9919\n",
            "Epoch 16/100\n",
            "1/1 [==============================] - 0s 12ms/step - loss: 13.9254 - mae: 13.9254\n",
            "Epoch 17/100\n",
            "1/1 [==============================] - 0s 14ms/step - loss: 13.8589 - mae: 13.8589\n",
            "Epoch 18/100\n",
            "1/1 [==============================] - 0s 19ms/step - loss: 13.7924 - mae: 13.7924\n",
            "Epoch 19/100\n",
            "1/1 [==============================] - 0s 18ms/step - loss: 13.7259 - mae: 13.7259\n",
            "Epoch 20/100\n",
            "1/1 [==============================] - 0s 17ms/step - loss: 13.6593 - mae: 13.6593\n",
            "Epoch 21/100\n",
            "1/1 [==============================] - 0s 20ms/step - loss: 13.5928 - mae: 13.5928\n",
            "Epoch 22/100\n",
            "1/1 [==============================] - 0s 14ms/step - loss: 13.5262 - mae: 13.5262\n",
            "Epoch 23/100\n",
            "1/1 [==============================] - 0s 24ms/step - loss: 13.4596 - mae: 13.4596\n",
            "Epoch 24/100\n",
            "1/1 [==============================] - 0s 19ms/step - loss: 13.3930 - mae: 13.3930\n",
            "Epoch 25/100\n",
            "1/1 [==============================] - 0s 19ms/step - loss: 13.3263 - mae: 13.3263\n",
            "Epoch 26/100\n",
            "1/1 [==============================] - 0s 14ms/step - loss: 13.2595 - mae: 13.2595\n",
            "Epoch 27/100\n",
            "1/1 [==============================] - 0s 13ms/step - loss: 13.1927 - mae: 13.1927\n",
            "Epoch 28/100\n",
            "1/1 [==============================] - 0s 13ms/step - loss: 13.1257 - mae: 13.1257\n",
            "Epoch 29/100\n",
            "1/1 [==============================] - 0s 13ms/step - loss: 13.0587 - mae: 13.0587\n",
            "Epoch 30/100\n",
            "1/1 [==============================] - 0s 22ms/step - loss: 12.9916 - mae: 12.9916\n",
            "Epoch 31/100\n",
            "1/1 [==============================] - 0s 23ms/step - loss: 12.9244 - mae: 12.9244\n",
            "Epoch 32/100\n",
            "1/1 [==============================] - 0s 19ms/step - loss: 12.8571 - mae: 12.8571\n",
            "Epoch 33/100\n",
            "1/1 [==============================] - 0s 18ms/step - loss: 12.7897 - mae: 12.7897\n",
            "Epoch 34/100\n",
            "1/1 [==============================] - 0s 14ms/step - loss: 12.7221 - mae: 12.7221\n",
            "Epoch 35/100\n",
            "1/1 [==============================] - 0s 15ms/step - loss: 12.6544 - mae: 12.6544\n",
            "Epoch 36/100\n",
            "1/1 [==============================] - 0s 19ms/step - loss: 12.5865 - mae: 12.5865\n",
            "Epoch 37/100\n",
            "1/1 [==============================] - 0s 16ms/step - loss: 12.5185 - mae: 12.5185\n",
            "Epoch 38/100\n",
            "1/1 [==============================] - 0s 21ms/step - loss: 12.4503 - mae: 12.4503\n",
            "Epoch 39/100\n",
            "1/1 [==============================] - 0s 17ms/step - loss: 12.3819 - mae: 12.3819\n",
            "Epoch 40/100\n",
            "1/1 [==============================] - 0s 14ms/step - loss: 12.3133 - mae: 12.3133\n",
            "Epoch 41/100\n",
            "1/1 [==============================] - 0s 18ms/step - loss: 12.2446 - mae: 12.2446\n",
            "Epoch 42/100\n",
            "1/1 [==============================] - 0s 17ms/step - loss: 12.1756 - mae: 12.1756\n",
            "Epoch 43/100\n",
            "1/1 [==============================] - 0s 13ms/step - loss: 12.1064 - mae: 12.1064\n",
            "Epoch 44/100\n",
            "1/1 [==============================] - 0s 13ms/step - loss: 12.0370 - mae: 12.0370\n",
            "Epoch 45/100\n",
            "1/1 [==============================] - 0s 12ms/step - loss: 11.9674 - mae: 11.9674\n",
            "Epoch 46/100\n",
            "1/1 [==============================] - 0s 14ms/step - loss: 11.8975 - mae: 11.8975\n",
            "Epoch 47/100\n",
            "1/1 [==============================] - 0s 13ms/step - loss: 11.8274 - mae: 11.8274\n",
            "Epoch 48/100\n",
            "1/1 [==============================] - 0s 12ms/step - loss: 11.7570 - mae: 11.7570\n",
            "Epoch 49/100\n",
            "1/1 [==============================] - 0s 15ms/step - loss: 11.6863 - mae: 11.6863\n",
            "Epoch 50/100\n",
            "1/1 [==============================] - 0s 13ms/step - loss: 11.6154 - mae: 11.6154\n",
            "Epoch 51/100\n",
            "1/1 [==============================] - 0s 12ms/step - loss: 11.5442 - mae: 11.5442\n",
            "Epoch 52/100\n",
            "1/1 [==============================] - 0s 13ms/step - loss: 11.4727 - mae: 11.4727\n",
            "Epoch 53/100\n",
            "1/1 [==============================] - 0s 12ms/step - loss: 11.4009 - mae: 11.4009\n",
            "Epoch 54/100\n",
            "1/1 [==============================] - 0s 12ms/step - loss: 11.3288 - mae: 11.3288\n",
            "Epoch 55/100\n",
            "1/1 [==============================] - 0s 12ms/step - loss: 11.2564 - mae: 11.2564\n",
            "Epoch 56/100\n",
            "1/1 [==============================] - 0s 13ms/step - loss: 11.1837 - mae: 11.1837\n",
            "Epoch 57/100\n",
            "1/1 [==============================] - 0s 12ms/step - loss: 11.1106 - mae: 11.1106\n",
            "Epoch 58/100\n",
            "1/1 [==============================] - 0s 15ms/step - loss: 11.0372 - mae: 11.0372\n",
            "Epoch 59/100\n",
            "1/1 [==============================] - 0s 21ms/step - loss: 10.9635 - mae: 10.9635\n",
            "Epoch 60/100\n",
            "1/1 [==============================] - 0s 16ms/step - loss: 10.8894 - mae: 10.8894\n",
            "Epoch 61/100\n",
            "1/1 [==============================] - 0s 14ms/step - loss: 10.8149 - mae: 10.8149\n",
            "Epoch 62/100\n",
            "1/1 [==============================] - 0s 15ms/step - loss: 10.7401 - mae: 10.7401\n",
            "Epoch 63/100\n",
            "1/1 [==============================] - 0s 25ms/step - loss: 10.6649 - mae: 10.6649\n",
            "Epoch 64/100\n",
            "1/1 [==============================] - 0s 18ms/step - loss: 10.5893 - mae: 10.5893\n",
            "Epoch 65/100\n",
            "1/1 [==============================] - 0s 16ms/step - loss: 10.5133 - mae: 10.5133\n",
            "Epoch 66/100\n",
            "1/1 [==============================] - 0s 17ms/step - loss: 10.4370 - mae: 10.4370\n",
            "Epoch 67/100\n",
            "1/1 [==============================] - 0s 16ms/step - loss: 10.3602 - mae: 10.3602\n",
            "Epoch 68/100\n",
            "1/1 [==============================] - 0s 13ms/step - loss: 10.2831 - mae: 10.2831\n",
            "Epoch 69/100\n",
            "1/1 [==============================] - 0s 18ms/step - loss: 10.2055 - mae: 10.2055\n",
            "Epoch 70/100\n",
            "1/1 [==============================] - 0s 16ms/step - loss: 10.1275 - mae: 10.1275\n",
            "Epoch 71/100\n",
            "1/1 [==============================] - 0s 17ms/step - loss: 10.0490 - mae: 10.0490\n",
            "Epoch 72/100\n",
            "1/1 [==============================] - 0s 18ms/step - loss: 9.9702 - mae: 9.9702\n",
            "Epoch 73/100\n",
            "1/1 [==============================] - 0s 18ms/step - loss: 9.8909 - mae: 9.8909\n",
            "Epoch 74/100\n",
            "1/1 [==============================] - 0s 25ms/step - loss: 9.8111 - mae: 9.8111\n",
            "Epoch 75/100\n",
            "1/1 [==============================] - 0s 27ms/step - loss: 9.7309 - mae: 9.7309\n",
            "Epoch 76/100\n",
            "1/1 [==============================] - 0s 25ms/step - loss: 9.6502 - mae: 9.6502\n",
            "Epoch 77/100\n",
            "1/1 [==============================] - 0s 20ms/step - loss: 9.5691 - mae: 9.5691\n",
            "Epoch 78/100\n",
            "1/1 [==============================] - 0s 21ms/step - loss: 9.4875 - mae: 9.4875\n",
            "Epoch 79/100\n",
            "1/1 [==============================] - 0s 31ms/step - loss: 9.4055 - mae: 9.4055\n",
            "Epoch 80/100\n",
            "1/1 [==============================] - 0s 25ms/step - loss: 9.3229 - mae: 9.3229\n",
            "Epoch 81/100\n",
            "1/1 [==============================] - 0s 23ms/step - loss: 9.2399 - mae: 9.2399\n",
            "Epoch 82/100\n",
            "1/1 [==============================] - 0s 23ms/step - loss: 9.1564 - mae: 9.1564\n",
            "Epoch 83/100\n",
            "1/1 [==============================] - 0s 23ms/step - loss: 9.0723 - mae: 9.0723\n",
            "Epoch 84/100\n",
            "1/1 [==============================] - 0s 19ms/step - loss: 8.9878 - mae: 8.9878\n",
            "Epoch 85/100\n",
            "1/1 [==============================] - 0s 21ms/step - loss: 8.9028 - mae: 8.9028\n",
            "Epoch 86/100\n",
            "1/1 [==============================] - 0s 18ms/step - loss: 8.8172 - mae: 8.8172\n",
            "Epoch 87/100\n",
            "1/1 [==============================] - 0s 20ms/step - loss: 8.7311 - mae: 8.7311\n",
            "Epoch 88/100\n",
            "1/1 [==============================] - 0s 21ms/step - loss: 8.6445 - mae: 8.6445\n",
            "Epoch 89/100\n",
            "1/1 [==============================] - 0s 15ms/step - loss: 8.5574 - mae: 8.5574\n",
            "Epoch 90/100\n",
            "1/1 [==============================] - 0s 13ms/step - loss: 8.4698 - mae: 8.4698\n",
            "Epoch 91/100\n",
            "1/1 [==============================] - 0s 10ms/step - loss: 8.3816 - mae: 8.3816\n",
            "Epoch 92/100\n",
            "1/1 [==============================] - 0s 11ms/step - loss: 8.2928 - mae: 8.2928\n",
            "Epoch 93/100\n",
            "1/1 [==============================] - 0s 15ms/step - loss: 8.2035 - mae: 8.2035\n",
            "Epoch 94/100\n",
            "1/1 [==============================] - 0s 15ms/step - loss: 8.1137 - mae: 8.1137\n",
            "Epoch 95/100\n",
            "1/1 [==============================] - 0s 13ms/step - loss: 8.0233 - mae: 8.0233\n",
            "Epoch 96/100\n",
            "1/1 [==============================] - 0s 10ms/step - loss: 7.9323 - mae: 7.9323\n",
            "Epoch 97/100\n",
            "1/1 [==============================] - 0s 14ms/step - loss: 7.8408 - mae: 7.8408\n",
            "Epoch 98/100\n",
            "1/1 [==============================] - 0s 20ms/step - loss: 7.7487 - mae: 7.7487\n",
            "Epoch 99/100\n",
            "1/1 [==============================] - 0s 24ms/step - loss: 7.6560 - mae: 7.6560\n",
            "Epoch 100/100\n",
            "1/1 [==============================] - 0s 21ms/step - loss: 7.5627 - mae: 7.5627\n"
          ]
        },
        {
          "output_type": "execute_result",
          "data": {
            "text/plain": [
              "<keras.src.callbacks.History at 0x7be58010a170>"
            ]
          },
          "metadata": {},
          "execution_count": 25
        }
      ]
    },
    {
      "cell_type": "code",
      "source": [
        "# Lets try to make a prediction\n",
        "\n",
        "model.predict([17.0])"
      ],
      "metadata": {
        "colab": {
          "base_uri": "https://localhost:8080/"
        },
        "id": "C6aI70bl-kSp",
        "outputId": "74daf4a5-a59d-438d-ab50-3dbc2827d01d"
      },
      "execution_count": 26,
      "outputs": [
        {
          "output_type": "stream",
          "name": "stdout",
          "text": [
            "1/1 [==============================] - 0s 84ms/step\n"
          ]
        },
        {
          "output_type": "execute_result",
          "data": {
            "text/plain": [
              "array([[24.785606]], dtype=float32)"
            ]
          },
          "metadata": {},
          "execution_count": 26
        }
      ]
    },
    {
      "cell_type": "markdown",
      "source": [
        "## Evaluating a model\n",
        "\n",
        "In practice, a typical workflow you will go through when building neural networks is:\n",
        "\n",
        "```\n",
        "Build a model -> fit it -> evaluate it -> tweak a model -> fit it -> evaluate it -> tweak a model -> fit it -> evaluate it...\n",
        "```\n",
        "\n",
        "\n"
      ],
      "metadata": {
        "id": "muz9Bglh-9NX"
      }
    },
    {
      "cell_type": "markdown",
      "source": [
        "When it comes to evaluation... there are 3 words you should memorize:\n",
        "\n",
        "# > \"Visualize, visualize, visualize\"\n",
        "\n",
        "It's a good idea to visualize:\n",
        "* The data - what data are we working with? What does it look like?\n",
        "* the model itself - what does our model look like?\n",
        "* The training of a model - how does a model perform while it learns?\n",
        "* The predictions of the model - how do the predictions of a model line up against the ground truth (the original labels)?"
      ],
      "metadata": {
        "id": "BBStAskOAzI_"
      }
    },
    {
      "cell_type": "code",
      "source": [
        "# Make a bigger data set\n",
        "x = tf.range(-100, 100, 4)\n",
        "x"
      ],
      "metadata": {
        "colab": {
          "base_uri": "https://localhost:8080/"
        },
        "id": "RVbgguPOB1LW",
        "outputId": "f5e88b7c-93d9-4dc6-9bed-1a462d40267b"
      },
      "execution_count": 27,
      "outputs": [
        {
          "output_type": "execute_result",
          "data": {
            "text/plain": [
              "<tf.Tensor: shape=(50,), dtype=int32, numpy=\n",
              "array([-100,  -96,  -92,  -88,  -84,  -80,  -76,  -72,  -68,  -64,  -60,\n",
              "        -56,  -52,  -48,  -44,  -40,  -36,  -32,  -28,  -24,  -20,  -16,\n",
              "        -12,   -8,   -4,    0,    4,    8,   12,   16,   20,   24,   28,\n",
              "         32,   36,   40,   44,   48,   52,   56,   60,   64,   68,   72,\n",
              "         76,   80,   84,   88,   92,   96], dtype=int32)>"
            ]
          },
          "metadata": {},
          "execution_count": 27
        }
      ]
    },
    {
      "cell_type": "code",
      "source": [
        "y = x + 10\n",
        "y"
      ],
      "metadata": {
        "colab": {
          "base_uri": "https://localhost:8080/"
        },
        "id": "2Y69e-JLCs8U",
        "outputId": "4f593494-677a-47c1-a63b-f397babc903e"
      },
      "execution_count": 28,
      "outputs": [
        {
          "output_type": "execute_result",
          "data": {
            "text/plain": [
              "<tf.Tensor: shape=(50,), dtype=int32, numpy=\n",
              "array([-90, -86, -82, -78, -74, -70, -66, -62, -58, -54, -50, -46, -42,\n",
              "       -38, -34, -30, -26, -22, -18, -14, -10,  -6,  -2,   2,   6,  10,\n",
              "        14,  18,  22,  26,  30,  34,  38,  42,  46,  50,  54,  58,  62,\n",
              "        66,  70,  74,  78,  82,  86,  90,  94,  98, 102, 106], dtype=int32)>"
            ]
          },
          "metadata": {},
          "execution_count": 28
        }
      ]
    },
    {
      "cell_type": "code",
      "source": [
        "# Visualize the data\n",
        "import matplotlib.pyplot as plt\n",
        "plt.scatter(x, y)"
      ],
      "metadata": {
        "colab": {
          "base_uri": "https://localhost:8080/",
          "height": 448
        },
        "id": "FCmZkm5hC1AV",
        "outputId": "c2448116-4f9d-4b91-918a-d78bc1e0b397"
      },
      "execution_count": 30,
      "outputs": [
        {
          "output_type": "execute_result",
          "data": {
            "text/plain": [
              "<matplotlib.collections.PathCollection at 0x7be57bac4fd0>"
            ]
          },
          "metadata": {},
          "execution_count": 30
        },
        {
          "output_type": "display_data",
          "data": {
            "text/plain": [
              "<Figure size 640x480 with 1 Axes>"
            ],
            "image/png": "[encoded data removed]"
          },
          "metadata": {}
        }
      ]
    },
    {
      "cell_type": "code",
      "source": [],
      "metadata": {
        "id": "BjWsZrH4DDdW"
      },
      "execution_count": null,
      "outputs": []
    }
  ]
}