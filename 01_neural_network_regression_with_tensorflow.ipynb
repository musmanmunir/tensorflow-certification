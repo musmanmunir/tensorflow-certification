{
  "nbformat": 4,
  "nbformat_minor": 0,
  "metadata": {
    "colab": {
      "provenance": []
    },
    "kernelspec": {
      "name": "python3",
      "display_name": "Python 3"
    },
    "language_info": {
      "name": "python"
    }
  },
  "cells": [
    {
      "cell_type": "markdown",
      "source": [
        "# Introduction to Regression with Neuaral Networks in TensorFlow\n",
        "\n",
        "There are many definitions for a regression problem but in our case, we are going to simplify it: predicting a numerical variable based on some other combination of variables, even shorter... predicting a number"
      ],
      "metadata": {
        "id": "LTFuMxGsw4Wg"
      }
    },
    {
      "cell_type": "code",
      "source": [
        "# Import tensorflow\n",
        "import tensorflow as tf\n",
        "print(tf.__version__)"
      ],
      "metadata": {
        "colab": {
          "base_uri": "https://localhost:8080/"
        },
        "id": "cW4vmgXHzlg7",
        "outputId": "d273fc7b-9dc4-4528-add6-f5f87dcb13a4"
      },
      "execution_count": 1,
      "outputs": [
        {
          "output_type": "stream",
          "name": "stdout",
          "text": [
            "2.15.0\n"
          ]
        }
      ]
    },
    {
      "cell_type": "markdown",
      "source": [
        "## Creating data to view and fit"
      ],
      "metadata": {
        "id": "TJ9BlgNJzxbc"
      }
    },
    {
      "cell_type": "code",
      "source": [
        "import numpy as np\n",
        "import matplotlib.pyplot as plt\n",
        "\n",
        "# Create features\n",
        "x = np.array([-7.0, -4.0, -1.0, 2.0, 5.0, 8.0, 11.0, 14.0])\n",
        "\n",
        "# Create labels\n",
        "y = np.array([3.0, 6.0, 9.0, 12.0, 15.0, 18.0, 21.0, 24.0])\n",
        "\n",
        "# Visualize it\n",
        "plt.scatter(x, y)"
      ],
      "metadata": {
        "colab": {
          "base_uri": "https://localhost:8080/",
          "height": 452
        },
        "id": "UzBJaxtB0AOt",
        "outputId": "1ba846d1-0719-4a8a-aef2-ad11d14e4e7c"
      },
      "execution_count": 2,
      "outputs": [
        {
          "output_type": "execute_result",
          "data": {
            "text/plain": [
              "<matplotlib.collections.PathCollection at 0x794d34213880>"
            ]
          },
          "metadata": {},
          "execution_count": 2
        },
        {
          "output_type": "display_data",
          "data": {
            "text/plain": [
              "<Figure size 640x480 with 1 Axes>"
            ],
            "image/png": "[encoded data removed]"
          },
          "metadata": {}
        }
      ]
    },
    {
      "cell_type": "code",
      "source": [
        "y == x + 10"
      ],
      "metadata": {
        "colab": {
          "base_uri": "https://localhost:8080/"
        },
        "id": "ymDRJN5_0c66",
        "outputId": "0404a2b9-67fc-463d-cf70-7a39e6594d4c"
      },
      "execution_count": 3,
      "outputs": [
        {
          "output_type": "execute_result",
          "data": {
            "text/plain": [
              "array([ True,  True,  True,  True,  True,  True,  True,  True])"
            ]
          },
          "metadata": {},
          "execution_count": 3
        }
      ]
    },
    {
      "cell_type": "markdown",
      "source": [
        "## Input and Output Shapes"
      ],
      "metadata": {
        "id": "g-QmNN3B0dXc"
      }
    },
    {
      "cell_type": "code",
      "source": [
        "# Create a demo tensor for our housing price prediction problem\n",
        "house_info = tf.constant([\"bedroom\", \"bathroom\", \"garage\"])\n",
        "house_price = tf.constant([939700])\n",
        "house_info, house_price"
      ],
      "metadata": {
        "colab": {
          "base_uri": "https://localhost:8080/"
        },
        "id": "uJoUFMrp07aK",
        "outputId": "c8d7b6ad-3774-4254-f0c9-6b2e575af50d"
      },
      "execution_count": 4,
      "outputs": [
        {
          "output_type": "execute_result",
          "data": {
            "text/plain": [
              "(<tf.Tensor: shape=(3,), dtype=string, numpy=array([b'bedroom', b'bathroom', b'garage'], dtype=object)>,\n",
              " <tf.Tensor: shape=(1,), dtype=int32, numpy=array([939700], dtype=int32)>)"
            ]
          },
          "metadata": {},
          "execution_count": 4
        }
      ]
    },
    {
      "cell_type": "code",
      "source": [
        "x[0], y[0]"
      ],
      "metadata": {
        "colab": {
          "base_uri": "https://localhost:8080/"
        },
        "id": "HQqR_oRX108k",
        "outputId": "3042ffc0-7e3f-4f7f-9a0d-a0021552a60b"
      },
      "execution_count": 5,
      "outputs": [
        {
          "output_type": "execute_result",
          "data": {
            "text/plain": [
              "(-7.0, 3.0)"
            ]
          },
          "metadata": {},
          "execution_count": 5
        }
      ]
    },
    {
      "cell_type": "code",
      "source": [
        "x[1], y[1]"
      ],
      "metadata": {
        "colab": {
          "base_uri": "https://localhost:8080/"
        },
        "id": "Vdz_6lUN10yM",
        "outputId": "366ddbf9-6890-4b64-a3e0-582c0c552e88"
      },
      "execution_count": 6,
      "outputs": [
        {
          "output_type": "execute_result",
          "data": {
            "text/plain": [
              "(-4.0, 6.0)"
            ]
          },
          "metadata": {},
          "execution_count": 6
        }
      ]
    },
    {
      "cell_type": "code",
      "source": [
        "input_shape = x[0].shape\n",
        "output_shape = y[0].shape\n",
        "input_shape, output_shape"
      ],
      "metadata": {
        "colab": {
          "base_uri": "https://localhost:8080/"
        },
        "id": "vyu-NfY507FD",
        "outputId": "137fab4c-fa33-40e7-f0c7-afa1c60072b9"
      },
      "execution_count": 7,
      "outputs": [
        {
          "output_type": "execute_result",
          "data": {
            "text/plain": [
              "((), ())"
            ]
          },
          "metadata": {},
          "execution_count": 7
        }
      ]
    },
    {
      "cell_type": "code",
      "source": [
        "x[0].ndim"
      ],
      "metadata": {
        "colab": {
          "base_uri": "https://localhost:8080/"
        },
        "id": "BaVUOHfE1m28",
        "outputId": "31c8a4ed-c3a8-445c-e8f3-8fc3e3020462"
      },
      "execution_count": 8,
      "outputs": [
        {
          "output_type": "execute_result",
          "data": {
            "text/plain": [
              "0"
            ]
          },
          "metadata": {},
          "execution_count": 8
        }
      ]
    },
    {
      "cell_type": "code",
      "source": [
        "x[0], y[0]"
      ],
      "metadata": {
        "colab": {
          "base_uri": "https://localhost:8080/"
        },
        "id": "S1TZG0oE2Euo",
        "outputId": "554f98ad-a351-4c63-c821-634351dea2e9"
      },
      "execution_count": 9,
      "outputs": [
        {
          "output_type": "execute_result",
          "data": {
            "text/plain": [
              "(-7.0, 3.0)"
            ]
          },
          "metadata": {},
          "execution_count": 9
        }
      ]
    },
    {
      "cell_type": "code",
      "source": [
        "# Turn our NumPy arrays into tensors with dtype float32\n",
        "x = tf.cast(tf.constant(x), dtype=tf.float32)\n",
        "y = tf.cast(tf.constant(y), dtype=tf.float32)\n",
        "x, y"
      ],
      "metadata": {
        "id": "aQkh_DJ42JHR",
        "colab": {
          "base_uri": "https://localhost:8080/"
        },
        "outputId": "4a96f9ac-3449-4a38-d185-4e414b341467"
      },
      "execution_count": 10,
      "outputs": [
        {
          "output_type": "execute_result",
          "data": {
            "text/plain": [
              "(<tf.Tensor: shape=(8,), dtype=float32, numpy=array([-7., -4., -1.,  2.,  5.,  8., 11., 14.], dtype=float32)>,\n",
              " <tf.Tensor: shape=(8,), dtype=float32, numpy=array([ 3.,  6.,  9., 12., 15., 18., 21., 24.], dtype=float32)>)"
            ]
          },
          "metadata": {},
          "execution_count": 10
        }
      ]
    },
    {
      "cell_type": "code",
      "source": [
        "input_shape = x[0].shape\n",
        "output_shape = y[0].shape\n",
        "input_shape, output_shape"
      ],
      "metadata": {
        "colab": {
          "base_uri": "https://localhost:8080/"
        },
        "id": "vo8Sr1YT-MYq",
        "outputId": "db0fcaad-eb21-4585-f32f-15cce2f58b87"
      },
      "execution_count": 11,
      "outputs": [
        {
          "output_type": "execute_result",
          "data": {
            "text/plain": [
              "(TensorShape([]), TensorShape([]))"
            ]
          },
          "metadata": {},
          "execution_count": 11
        }
      ]
    },
    {
      "cell_type": "code",
      "source": [
        "plt.scatter(x, y)"
      ],
      "metadata": {
        "colab": {
          "base_uri": "https://localhost:8080/",
          "height": 452
        },
        "id": "c64piOpf-mF-",
        "outputId": "016c7f3d-5e84-4ea9-83b2-3317e72c7eac"
      },
      "execution_count": 12,
      "outputs": [
        {
          "output_type": "execute_result",
          "data": {
            "text/plain": [
              "<matplotlib.collections.PathCollection at 0x794d3404c100>"
            ]
          },
          "metadata": {},
          "execution_count": 12
        },
        {
          "output_type": "display_data",
          "data": {
            "text/plain": [
              "<Figure size 640x480 with 1 Axes>"
            ],
            "image/png": "[encoded data removed]"
          },
          "metadata": {}
        }
      ]
    },
    {
      "cell_type": "code",
      "source": [
        "plt.scatter(x, y)"
      ],
      "metadata": {
        "colab": {
          "base_uri": "https://localhost:8080/",
          "height": 452
        },
        "id": "oUouY5nn-qXq",
        "outputId": "982a24d0-665d-48fa-c501-1f7b2569374e"
      },
      "execution_count": 13,
      "outputs": [
        {
          "output_type": "execute_result",
          "data": {
            "text/plain": [
              "<matplotlib.collections.PathCollection at 0x794d34095c30>"
            ]
          },
          "metadata": {},
          "execution_count": 13
        },
        {
          "output_type": "display_data",
          "data": {
            "text/plain": [
              "<Figure size 640x480 with 1 Axes>"
            ],
            "image/png": "[encoded data removed]"
          },
          "metadata": {}
        }
      ]
    },
    {
      "cell_type": "markdown",
      "source": [
        "## Steps in modelling with TensorFlow\n",
        "\n",
        "1. **Creating a model** - define the input and output layers, as well as the hidden layers of a deep learning model\n",
        "\n",
        "2. **Compiling a model** - define a loss function (in other words, the function which tells our model how wrong it is) and the optimizer (tells our model how to improve the patterns its learning) and evaluation metrics (what we can use to interpret the performance of our model).\n",
        "\n",
        "3. **Fitting a model** - Letting the model try to find patterns between x & y (features and labels)."
      ],
      "metadata": {
        "id": "OC7ZWWWB_C6C"
      }
    },
    {
      "cell_type": "code",
      "source": [
        "# Reshape your input data to be 2D\n",
        "x_reshaped = tf.reshape(x, [-1, 1])  # Use tf.reshape to reshape the EagerTensor\n",
        "\n",
        "# Set random seed\n",
        "tf.random.set_seed(42)\n",
        "\n",
        "# 1. Create a model using Sequential API\n",
        "model = tf.keras.Sequential([\n",
        "    tf.keras.layers.Dense(1)\n",
        "])\n",
        "\n",
        "# 2. Compile the model\n",
        "model.compile(loss=tf.keras.losses.mae, # mae is short for mean absolute error\n",
        "              optimizer=tf.keras.optimizers.SGD(), # SGD is short for stochastic gradient descent\n",
        "              metrics=[\"mae\"])\n",
        "\n",
        "# 3. Fit the model using the reshaped input\n",
        "model.fit(x_reshaped, y, epochs=5)  # Use x_reshaped instead of x"
      ],
      "metadata": {
        "colab": {
          "base_uri": "https://localhost:8080/"
        },
        "id": "YRU1UEmhAE8h",
        "outputId": "0a46727c-5bea-411d-9da6-4f19156269e0"
      },
      "execution_count": 14,
      "outputs": [
        {
          "output_type": "stream",
          "name": "stdout",
          "text": [
            "Epoch 1/5\n",
            "1/1 [==============================] - 1s 575ms/step - loss: 15.1198 - mae: 15.1198\n",
            "Epoch 2/5\n",
            "1/1 [==============================] - 0s 12ms/step - loss: 14.8886 - mae: 14.8886\n",
            "Epoch 3/5\n",
            "1/1 [==============================] - 0s 11ms/step - loss: 14.7561 - mae: 14.7561\n",
            "Epoch 4/5\n",
            "1/1 [==============================] - 0s 14ms/step - loss: 14.6236 - mae: 14.6236\n",
            "Epoch 5/5\n",
            "1/1 [==============================] - 0s 11ms/step - loss: 14.4911 - mae: 14.4911\n"
          ]
        },
        {
          "output_type": "execute_result",
          "data": {
            "text/plain": [
              "<keras.src.callbacks.History at 0x794d22ef7400>"
            ]
          },
          "metadata": {},
          "execution_count": 14
        }
      ]
    },
    {
      "cell_type": "code",
      "source": [
        "# Check out reshaped_x and y\n",
        "x_reshaped, y"
      ],
      "metadata": {
        "colab": {
          "base_uri": "https://localhost:8080/"
        },
        "id": "-zSbpOZaCtMK",
        "outputId": "685f910c-f8d4-4dbb-de02-ecf6f043a413"
      },
      "execution_count": 15,
      "outputs": [
        {
          "output_type": "execute_result",
          "data": {
            "text/plain": [
              "(<tf.Tensor: shape=(8, 1), dtype=float32, numpy=\n",
              " array([[-7.],\n",
              "        [-4.],\n",
              "        [-1.],\n",
              "        [ 2.],\n",
              "        [ 5.],\n",
              "        [ 8.],\n",
              "        [11.],\n",
              "        [14.]], dtype=float32)>,\n",
              " <tf.Tensor: shape=(8,), dtype=float32, numpy=array([ 3.,  6.,  9., 12., 15., 18., 21., 24.], dtype=float32)>)"
            ]
          },
          "metadata": {},
          "execution_count": 15
        }
      ]
    },
    {
      "cell_type": "code",
      "source": [
        "# Try to make a prediction using our model\n",
        "y_pred = model.predict([17.0])\n",
        "y_pred"
      ],
      "metadata": {
        "colab": {
          "base_uri": "https://localhost:8080/"
        },
        "id": "4V5d4k9_FgNZ",
        "outputId": "675519d6-349d-4666-e152-8e9b371c0e20"
      },
      "execution_count": 16,
      "outputs": [
        {
          "output_type": "stream",
          "name": "stdout",
          "text": [
            "1/1 [==============================] - 0s 95ms/step\n"
          ]
        },
        {
          "output_type": "execute_result",
          "data": {
            "text/plain": [
              "array([[-4.353523]], dtype=float32)"
            ]
          },
          "metadata": {},
          "execution_count": 16
        }
      ]
    },
    {
      "cell_type": "code",
      "source": [
        "y_pred + 11"
      ],
      "metadata": {
        "colab": {
          "base_uri": "https://localhost:8080/"
        },
        "id": "O8YexzKZFxCA",
        "outputId": "c5e3c438-a67d-4470-f43a-5827dd1b98a3"
      },
      "execution_count": 17,
      "outputs": [
        {
          "output_type": "execute_result",
          "data": {
            "text/plain": [
              "array([[6.646477]], dtype=float32)"
            ]
          },
          "metadata": {},
          "execution_count": 17
        }
      ]
    },
    {
      "cell_type": "markdown",
      "source": [
        "## Improving our model\n",
        "\n",
        "We can improve our model, by altering the steps we took to create a model.\n",
        "\n",
        "1. **Creating a model** - here we might add more layers, increase the number of hidden units (all called neurons) within each of the hidden layers, change the activation function of each layer.\n",
        "\n",
        "2. **Compiling a model** - here we might change the optimization function or perhaps the **learning rate** of the optimnization function\n",
        "\n",
        "3. **Fitting the model** - here we might fit a model for more **epochs** (leave it training for longer) or on more data (give the model more example to learn from)."
      ],
      "metadata": {
        "id": "ZbZgHCejGGSq"
      }
    },
    {
      "cell_type": "code",
      "source": [
        "# Reshape your input data to be 2D\n",
        "x_reshaped = tf.reshape(x, [-1, 1])  # Use tf.reshape to reshape the EagerTensor\n",
        "\n",
        "# Set random seed\n",
        "tf.random.set_seed(42)\n",
        "\n",
        "# 1. Create a model using Sequential API\n",
        "model = tf.keras.Sequential([\n",
        "    tf.keras.layers.Dense(1)\n",
        "])\n",
        "\n",
        "# 2. Compile the model\n",
        "model.compile(loss=tf.keras.losses.mae, # mae is short for mean absolute error\n",
        "              optimizer=tf.keras.optimizers.SGD(), # SGD is short for stochastic gradient descent\n",
        "              metrics=[\"mae\"])\n",
        "\n",
        "# 3. Fit the model using the reshaped input\n",
        "model.fit(x_reshaped, y, epochs=100)  # Use x_reshaped instead of x"
      ],
      "metadata": {
        "id": "6prTMmnBGMom",
        "colab": {
          "base_uri": "https://localhost:8080/"
        },
        "outputId": "ede991e4-602e-4880-b9ca-035918830964"
      },
      "execution_count": 18,
      "outputs": [
        {
          "output_type": "stream",
          "name": "stdout",
          "text": [
            "Epoch 1/100\n",
            "1/1 [==============================] - 0s 392ms/step - loss: 16.5126 - mae: 16.5126\n",
            "Epoch 2/100\n",
            "1/1 [==============================] - 0s 11ms/step - loss: 16.2314 - mae: 16.2314\n",
            "Epoch 3/100\n",
            "1/1 [==============================] - 0s 12ms/step - loss: 15.9501 - mae: 15.9501\n",
            "Epoch 4/100\n",
            "1/1 [==============================] - 0s 16ms/step - loss: 15.6689 - mae: 15.6689\n",
            "Epoch 5/100\n",
            "1/1 [==============================] - 0s 14ms/step - loss: 15.3876 - mae: 15.3876\n",
            "Epoch 6/100\n",
            "1/1 [==============================] - 0s 13ms/step - loss: 15.1064 - mae: 15.1064\n",
            "Epoch 7/100\n",
            "1/1 [==============================] - 0s 13ms/step - loss: 14.8609 - mae: 14.8609\n",
            "Epoch 8/100\n",
            "1/1 [==============================] - 0s 15ms/step - loss: 14.7284 - mae: 14.7284\n",
            "Epoch 9/100\n",
            "1/1 [==============================] - 0s 13ms/step - loss: 14.5959 - mae: 14.5959\n",
            "Epoch 10/100\n",
            "1/1 [==============================] - 0s 11ms/step - loss: 14.4634 - mae: 14.4634\n",
            "Epoch 11/100\n",
            "1/1 [==============================] - 0s 11ms/step - loss: 14.3309 - mae: 14.3309\n",
            "Epoch 12/100\n",
            "1/1 [==============================] - 0s 11ms/step - loss: 14.1984 - mae: 14.1984\n",
            "Epoch 13/100\n",
            "1/1 [==============================] - 0s 11ms/step - loss: 14.0659 - mae: 14.0659\n",
            "Epoch 14/100\n",
            "1/1 [==============================] - 0s 14ms/step - loss: 13.9334 - mae: 13.9334\n",
            "Epoch 15/100\n",
            "1/1 [==============================] - 0s 11ms/step - loss: 13.8009 - mae: 13.8009\n",
            "Epoch 16/100\n",
            "1/1 [==============================] - 0s 11ms/step - loss: 13.6684 - mae: 13.6684\n",
            "Epoch 17/100\n",
            "1/1 [==============================] - 0s 12ms/step - loss: 13.5359 - mae: 13.5359\n",
            "Epoch 18/100\n",
            "1/1 [==============================] - 0s 11ms/step - loss: 13.4034 - mae: 13.4034\n",
            "Epoch 19/100\n",
            "1/1 [==============================] - 0s 11ms/step - loss: 13.2709 - mae: 13.2709\n",
            "Epoch 20/100\n",
            "1/1 [==============================] - 0s 12ms/step - loss: 13.1384 - mae: 13.1384\n",
            "Epoch 21/100\n",
            "1/1 [==============================] - 0s 14ms/step - loss: 13.0059 - mae: 13.0059\n",
            "Epoch 22/100\n",
            "1/1 [==============================] - 0s 13ms/step - loss: 12.8734 - mae: 12.8734\n",
            "Epoch 23/100\n",
            "1/1 [==============================] - 0s 14ms/step - loss: 12.7409 - mae: 12.7409\n",
            "Epoch 24/100\n",
            "1/1 [==============================] - 0s 13ms/step - loss: 12.6084 - mae: 12.6084\n",
            "Epoch 25/100\n",
            "1/1 [==============================] - 0s 14ms/step - loss: 12.4759 - mae: 12.4759\n",
            "Epoch 26/100\n",
            "1/1 [==============================] - 0s 12ms/step - loss: 12.3434 - mae: 12.3434\n",
            "Epoch 27/100\n",
            "1/1 [==============================] - 0s 17ms/step - loss: 12.2109 - mae: 12.2109\n",
            "Epoch 28/100\n",
            "1/1 [==============================] - 0s 11ms/step - loss: 12.0784 - mae: 12.0784\n",
            "Epoch 29/100\n",
            "1/1 [==============================] - 0s 14ms/step - loss: 11.9459 - mae: 11.9459\n",
            "Epoch 30/100\n",
            "1/1 [==============================] - 0s 13ms/step - loss: 11.8134 - mae: 11.8134\n",
            "Epoch 31/100\n",
            "1/1 [==============================] - 0s 19ms/step - loss: 11.6809 - mae: 11.6809\n",
            "Epoch 32/100\n",
            "1/1 [==============================] - 0s 17ms/step - loss: 11.5484 - mae: 11.5484\n",
            "Epoch 33/100\n",
            "1/1 [==============================] - 0s 16ms/step - loss: 11.4159 - mae: 11.4159\n",
            "Epoch 34/100\n",
            "1/1 [==============================] - 0s 14ms/step - loss: 11.2834 - mae: 11.2834\n",
            "Epoch 35/100\n",
            "1/1 [==============================] - 0s 14ms/step - loss: 11.1509 - mae: 11.1509\n",
            "Epoch 36/100\n",
            "1/1 [==============================] - 0s 10ms/step - loss: 11.0184 - mae: 11.0184\n",
            "Epoch 37/100\n",
            "1/1 [==============================] - 0s 13ms/step - loss: 10.8859 - mae: 10.8859\n",
            "Epoch 38/100\n",
            "1/1 [==============================] - 0s 12ms/step - loss: 10.7534 - mae: 10.7534\n",
            "Epoch 39/100\n",
            "1/1 [==============================] - 0s 13ms/step - loss: 10.6209 - mae: 10.6209\n",
            "Epoch 40/100\n",
            "1/1 [==============================] - 0s 13ms/step - loss: 10.4884 - mae: 10.4884\n",
            "Epoch 41/100\n",
            "1/1 [==============================] - 0s 15ms/step - loss: 10.3559 - mae: 10.3559\n",
            "Epoch 42/100\n",
            "1/1 [==============================] - 0s 11ms/step - loss: 10.2234 - mae: 10.2234\n",
            "Epoch 43/100\n",
            "1/1 [==============================] - 0s 12ms/step - loss: 10.0909 - mae: 10.0909\n",
            "Epoch 44/100\n",
            "1/1 [==============================] - 0s 12ms/step - loss: 9.9584 - mae: 9.9584\n",
            "Epoch 45/100\n",
            "1/1 [==============================] - 0s 13ms/step - loss: 9.8259 - mae: 9.8259\n",
            "Epoch 46/100\n",
            "1/1 [==============================] - 0s 11ms/step - loss: 9.6934 - mae: 9.6934\n",
            "Epoch 47/100\n",
            "1/1 [==============================] - 0s 15ms/step - loss: 9.5609 - mae: 9.5609\n",
            "Epoch 48/100\n",
            "1/1 [==============================] - 0s 17ms/step - loss: 9.4284 - mae: 9.4284\n",
            "Epoch 49/100\n",
            "1/1 [==============================] - 0s 15ms/step - loss: 9.2959 - mae: 9.2959\n",
            "Epoch 50/100\n",
            "1/1 [==============================] - 0s 18ms/step - loss: 9.1634 - mae: 9.1634\n",
            "Epoch 51/100\n",
            "1/1 [==============================] - 0s 16ms/step - loss: 9.0309 - mae: 9.0309\n",
            "Epoch 52/100\n",
            "1/1 [==============================] - 0s 14ms/step - loss: 8.8984 - mae: 8.8984\n",
            "Epoch 53/100\n",
            "1/1 [==============================] - 0s 17ms/step - loss: 8.7659 - mae: 8.7659\n",
            "Epoch 54/100\n",
            "1/1 [==============================] - 0s 11ms/step - loss: 8.6334 - mae: 8.6334\n",
            "Epoch 55/100\n",
            "1/1 [==============================] - 0s 13ms/step - loss: 8.5009 - mae: 8.5009\n",
            "Epoch 56/100\n",
            "1/1 [==============================] - 0s 13ms/step - loss: 8.3684 - mae: 8.3684\n",
            "Epoch 57/100\n",
            "1/1 [==============================] - 0s 11ms/step - loss: 8.2359 - mae: 8.2359\n",
            "Epoch 58/100\n",
            "1/1 [==============================] - 0s 12ms/step - loss: 8.1034 - mae: 8.1034\n",
            "Epoch 59/100\n",
            "1/1 [==============================] - 0s 14ms/step - loss: 7.9709 - mae: 7.9709\n",
            "Epoch 60/100\n",
            "1/1 [==============================] - 0s 14ms/step - loss: 7.8384 - mae: 7.8384\n",
            "Epoch 61/100\n",
            "1/1 [==============================] - 0s 16ms/step - loss: 7.7059 - mae: 7.7059\n",
            "Epoch 62/100\n",
            "1/1 [==============================] - 0s 16ms/step - loss: 7.5734 - mae: 7.5734\n",
            "Epoch 63/100\n",
            "1/1 [==============================] - 0s 13ms/step - loss: 7.4409 - mae: 7.4409\n",
            "Epoch 64/100\n",
            "1/1 [==============================] - 0s 13ms/step - loss: 7.3084 - mae: 7.3084\n",
            "Epoch 65/100\n",
            "1/1 [==============================] - 0s 11ms/step - loss: 7.1759 - mae: 7.1759\n",
            "Epoch 66/100\n",
            "1/1 [==============================] - 0s 11ms/step - loss: 7.0434 - mae: 7.0434\n",
            "Epoch 67/100\n",
            "1/1 [==============================] - 0s 10ms/step - loss: 7.0163 - mae: 7.0163\n",
            "Epoch 68/100\n",
            "1/1 [==============================] - 0s 15ms/step - loss: 7.0106 - mae: 7.0106\n",
            "Epoch 69/100\n",
            "1/1 [==============================] - 0s 12ms/step - loss: 7.0050 - mae: 7.0050\n",
            "Epoch 70/100\n",
            "1/1 [==============================] - 0s 11ms/step - loss: 6.9994 - mae: 6.9994\n",
            "Epoch 71/100\n",
            "1/1 [==============================] - 0s 19ms/step - loss: 6.9938 - mae: 6.9938\n",
            "Epoch 72/100\n",
            "1/1 [==============================] - 0s 16ms/step - loss: 6.9881 - mae: 6.9881\n",
            "Epoch 73/100\n",
            "1/1 [==============================] - 0s 11ms/step - loss: 6.9825 - mae: 6.9825\n",
            "Epoch 74/100\n",
            "1/1 [==============================] - 0s 11ms/step - loss: 6.9769 - mae: 6.9769\n",
            "Epoch 75/100\n",
            "1/1 [==============================] - 0s 13ms/step - loss: 6.9713 - mae: 6.9713\n",
            "Epoch 76/100\n",
            "1/1 [==============================] - 0s 12ms/step - loss: 6.9656 - mae: 6.9656\n",
            "Epoch 77/100\n",
            "1/1 [==============================] - 0s 11ms/step - loss: 6.9600 - mae: 6.9600\n",
            "Epoch 78/100\n",
            "1/1 [==============================] - 0s 13ms/step - loss: 6.9544 - mae: 6.9544\n",
            "Epoch 79/100\n",
            "1/1 [==============================] - 0s 11ms/step - loss: 6.9488 - mae: 6.9488\n",
            "Epoch 80/100\n",
            "1/1 [==============================] - 0s 11ms/step - loss: 6.9431 - mae: 6.9431\n",
            "Epoch 81/100\n",
            "1/1 [==============================] - 0s 11ms/step - loss: 6.9375 - mae: 6.9375\n",
            "Epoch 82/100\n",
            "1/1 [==============================] - 0s 16ms/step - loss: 6.9319 - mae: 6.9319\n",
            "Epoch 83/100\n",
            "1/1 [==============================] - 0s 22ms/step - loss: 6.9262 - mae: 6.9262\n",
            "Epoch 84/100\n",
            "1/1 [==============================] - 0s 11ms/step - loss: 6.9206 - mae: 6.9206\n",
            "Epoch 85/100\n",
            "1/1 [==============================] - 0s 13ms/step - loss: 6.9150 - mae: 6.9150\n",
            "Epoch 86/100\n",
            "1/1 [==============================] - 0s 11ms/step - loss: 6.9094 - mae: 6.9094\n",
            "Epoch 87/100\n",
            "1/1 [==============================] - 0s 10ms/step - loss: 6.9038 - mae: 6.9038\n",
            "Epoch 88/100\n",
            "1/1 [==============================] - 0s 13ms/step - loss: 6.8981 - mae: 6.8981\n",
            "Epoch 89/100\n",
            "1/1 [==============================] - 0s 15ms/step - loss: 6.8925 - mae: 6.8925\n",
            "Epoch 90/100\n",
            "1/1 [==============================] - 0s 15ms/step - loss: 6.8869 - mae: 6.8869\n",
            "Epoch 91/100\n",
            "1/1 [==============================] - 0s 12ms/step - loss: 6.8813 - mae: 6.8813\n",
            "Epoch 92/100\n",
            "1/1 [==============================] - 0s 11ms/step - loss: 6.8756 - mae: 6.8756\n",
            "Epoch 93/100\n",
            "1/1 [==============================] - 0s 10ms/step - loss: 6.8700 - mae: 6.8700\n",
            "Epoch 94/100\n",
            "1/1 [==============================] - 0s 12ms/step - loss: 6.8644 - mae: 6.8644\n",
            "Epoch 95/100\n",
            "1/1 [==============================] - 0s 17ms/step - loss: 6.8588 - mae: 6.8588\n",
            "Epoch 96/100\n",
            "1/1 [==============================] - 0s 16ms/step - loss: 6.8531 - mae: 6.8531\n",
            "Epoch 97/100\n",
            "1/1 [==============================] - 0s 14ms/step - loss: 6.8475 - mae: 6.8475\n",
            "Epoch 98/100\n",
            "1/1 [==============================] - 0s 13ms/step - loss: 6.8419 - mae: 6.8419\n",
            "Epoch 99/100\n",
            "1/1 [==============================] - 0s 13ms/step - loss: 6.8363 - mae: 6.8363\n",
            "Epoch 100/100\n",
            "1/1 [==============================] - 0s 16ms/step - loss: 6.8306 - mae: 6.8306\n"
          ]
        },
        {
          "output_type": "execute_result",
          "data": {
            "text/plain": [
              "<keras.src.callbacks.History at 0x794d22384e80>"
            ]
          },
          "metadata": {},
          "execution_count": 18
        }
      ]
    },
    {
      "cell_type": "code",
      "source": [
        "# Lets see if our model's prediction has improved...\n",
        "model.predict([17.0])"
      ],
      "metadata": {
        "colab": {
          "base_uri": "https://localhost:8080/"
        },
        "id": "qVt3Pzso86Rj",
        "outputId": "4afb4bd8-54ab-4139-fe12-1c5395537f45"
      },
      "execution_count": 19,
      "outputs": [
        {
          "output_type": "stream",
          "name": "stdout",
          "text": [
            "1/1 [==============================] - 0s 85ms/step\n"
          ]
        },
        {
          "output_type": "execute_result",
          "data": {
            "text/plain": [
              "array([[29.771229]], dtype=float32)"
            ]
          },
          "metadata": {},
          "execution_count": 19
        }
      ]
    },
    {
      "cell_type": "code",
      "source": [
        "# Lets see if we can make another to improve our model\n",
        "# Changing layers to 50\n",
        "# changing activation to none\n",
        "# Change the optimizer to Adam\n",
        "# introduce learning rate to 0.01\n",
        "\n",
        "# 1. Create a model (this time with an extra hidden layer with 100 hidden units)\n",
        "\n",
        "# Reshape your input data to be 2D\n",
        "x_reshaped = tf.reshape(x, [-1, 1])  # Use tf.reshape to reshape the EagerTensor\n",
        "\n",
        "# Set random seed\n",
        "tf.random.set_seed(42)\n",
        "\n",
        "# 1. Create a model using Sequential API\n",
        "model = tf.keras.Sequential([\n",
        "    tf.keras.layers.Dense(50, activation=None),\n",
        "    tf.keras.layers.Dense(1)\n",
        "])\n",
        "\n",
        "# 2. Compile the model\n",
        "model.compile(loss=\"mae\", # mae is short for mean absolute error #just writing mae is enough\n",
        "              optimizer=tf.keras.optimizers.Adam(lr=0.01), # SGD is short for stochastic gradient descent\n",
        "              metrics=[\"mae\"])\n",
        "\n",
        "# 3. Fit the model using the reshaped input\n",
        "model.fit(x_reshaped, y, epochs=100)  # Use x_reshaped instead of x"
      ],
      "metadata": {
        "colab": {
          "base_uri": "https://localhost:8080/"
        },
        "id": "NKZJiawm9TrV",
        "outputId": "9a6ba467-4919-4efc-c1a8-d4cad6eceb88"
      },
      "execution_count": 20,
      "outputs": [
        {
          "output_type": "stream",
          "name": "stderr",
          "text": [
            "WARNING:absl:`lr` is deprecated in Keras optimizer, please use `learning_rate` or use the legacy optimizer, e.g.,tf.keras.optimizers.legacy.Adam.\n"
          ]
        },
        {
          "output_type": "stream",
          "name": "stdout",
          "text": [
            "Epoch 1/100\n",
            "1/1 [==============================] - 1s 607ms/step - loss: 14.0998 - mae: 14.0998\n",
            "Epoch 2/100\n",
            "1/1 [==============================] - 0s 10ms/step - loss: 14.0327 - mae: 14.0327\n",
            "Epoch 3/100\n",
            "1/1 [==============================] - 0s 10ms/step - loss: 13.9657 - mae: 13.9657\n",
            "Epoch 4/100\n",
            "1/1 [==============================] - 0s 10ms/step - loss: 13.8987 - mae: 13.8987\n",
            "Epoch 5/100\n",
            "1/1 [==============================] - 0s 10ms/step - loss: 13.8318 - mae: 13.8318\n",
            "Epoch 6/100\n",
            "1/1 [==============================] - 0s 10ms/step - loss: 13.7650 - mae: 13.7650\n",
            "Epoch 7/100\n",
            "1/1 [==============================] - 0s 10ms/step - loss: 13.6982 - mae: 13.6982\n",
            "Epoch 8/100\n",
            "1/1 [==============================] - 0s 9ms/step - loss: 13.6315 - mae: 13.6315\n",
            "Epoch 9/100\n",
            "1/1 [==============================] - 0s 12ms/step - loss: 13.5648 - mae: 13.5648\n",
            "Epoch 10/100\n",
            "1/1 [==============================] - 0s 10ms/step - loss: 13.4982 - mae: 13.4982\n",
            "Epoch 11/100\n",
            "1/1 [==============================] - 0s 13ms/step - loss: 13.4315 - mae: 13.4315\n",
            "Epoch 12/100\n",
            "1/1 [==============================] - 0s 13ms/step - loss: 13.3648 - mae: 13.3648\n",
            "Epoch 13/100\n",
            "1/1 [==============================] - 0s 11ms/step - loss: 13.2982 - mae: 13.2982\n",
            "Epoch 14/100\n",
            "1/1 [==============================] - 0s 11ms/step - loss: 13.2315 - mae: 13.2315\n",
            "Epoch 15/100\n",
            "1/1 [==============================] - 0s 11ms/step - loss: 13.1647 - mae: 13.1647\n",
            "Epoch 16/100\n",
            "1/1 [==============================] - 0s 10ms/step - loss: 13.0980 - mae: 13.0980\n",
            "Epoch 17/100\n",
            "1/1 [==============================] - 0s 10ms/step - loss: 13.0312 - mae: 13.0312\n",
            "Epoch 18/100\n",
            "1/1 [==============================] - 0s 11ms/step - loss: 12.9643 - mae: 12.9643\n",
            "Epoch 19/100\n",
            "1/1 [==============================] - 0s 11ms/step - loss: 12.8974 - mae: 12.8974\n",
            "Epoch 20/100\n",
            "1/1 [==============================] - 0s 13ms/step - loss: 12.8304 - mae: 12.8304\n",
            "Epoch 21/100\n",
            "1/1 [==============================] - 0s 11ms/step - loss: 12.7633 - mae: 12.7633\n",
            "Epoch 22/100\n",
            "1/1 [==============================] - 0s 11ms/step - loss: 12.6962 - mae: 12.6962\n",
            "Epoch 23/100\n",
            "1/1 [==============================] - 0s 10ms/step - loss: 12.6290 - mae: 12.6290\n",
            "Epoch 24/100\n",
            "1/1 [==============================] - 0s 10ms/step - loss: 12.5617 - mae: 12.5617\n",
            "Epoch 25/100\n",
            "1/1 [==============================] - 0s 12ms/step - loss: 12.4942 - mae: 12.4942\n",
            "Epoch 26/100\n",
            "1/1 [==============================] - 0s 11ms/step - loss: 12.4267 - mae: 12.4267\n",
            "Epoch 27/100\n",
            "1/1 [==============================] - 0s 13ms/step - loss: 12.3591 - mae: 12.3591\n",
            "Epoch 28/100\n",
            "1/1 [==============================] - 0s 11ms/step - loss: 12.2913 - mae: 12.2913\n",
            "Epoch 29/100\n",
            "1/1 [==============================] - 0s 12ms/step - loss: 12.2234 - mae: 12.2234\n",
            "Epoch 30/100\n",
            "1/1 [==============================] - 0s 11ms/step - loss: 12.1553 - mae: 12.1553\n",
            "Epoch 31/100\n",
            "1/1 [==============================] - 0s 11ms/step - loss: 12.0871 - mae: 12.0871\n",
            "Epoch 32/100\n",
            "1/1 [==============================] - 0s 13ms/step - loss: 12.0187 - mae: 12.0187\n",
            "Epoch 33/100\n",
            "1/1 [==============================] - 0s 15ms/step - loss: 11.9501 - mae: 11.9501\n",
            "Epoch 34/100\n",
            "1/1 [==============================] - 0s 15ms/step - loss: 11.8813 - mae: 11.8813\n",
            "Epoch 35/100\n",
            "1/1 [==============================] - 0s 21ms/step - loss: 11.8124 - mae: 11.8124\n",
            "Epoch 36/100\n",
            "1/1 [==============================] - 0s 13ms/step - loss: 11.7432 - mae: 11.7432\n",
            "Epoch 37/100\n",
            "1/1 [==============================] - 0s 12ms/step - loss: 11.6738 - mae: 11.6738\n",
            "Epoch 38/100\n",
            "1/1 [==============================] - 0s 12ms/step - loss: 11.6042 - mae: 11.6042\n",
            "Epoch 39/100\n",
            "1/1 [==============================] - 0s 13ms/step - loss: 11.5344 - mae: 11.5344\n",
            "Epoch 40/100\n",
            "1/1 [==============================] - 0s 13ms/step - loss: 11.4643 - mae: 11.4643\n",
            "Epoch 41/100\n",
            "1/1 [==============================] - 0s 13ms/step - loss: 11.3939 - mae: 11.3939\n",
            "Epoch 42/100\n",
            "1/1 [==============================] - 0s 11ms/step - loss: 11.3233 - mae: 11.3233\n",
            "Epoch 43/100\n",
            "1/1 [==============================] - 0s 11ms/step - loss: 11.2524 - mae: 11.2524\n",
            "Epoch 44/100\n",
            "1/1 [==============================] - 0s 11ms/step - loss: 11.1813 - mae: 11.1813\n",
            "Epoch 45/100\n",
            "1/1 [==============================] - 0s 11ms/step - loss: 11.1098 - mae: 11.1098\n",
            "Epoch 46/100\n",
            "1/1 [==============================] - 0s 11ms/step - loss: 11.0381 - mae: 11.0381\n",
            "Epoch 47/100\n",
            "1/1 [==============================] - 0s 14ms/step - loss: 10.9660 - mae: 10.9660\n",
            "Epoch 48/100\n",
            "1/1 [==============================] - 0s 16ms/step - loss: 10.8936 - mae: 10.8936\n",
            "Epoch 49/100\n",
            "1/1 [==============================] - 0s 13ms/step - loss: 10.8209 - mae: 10.8209\n",
            "Epoch 50/100\n",
            "1/1 [==============================] - 0s 14ms/step - loss: 10.7479 - mae: 10.7479\n",
            "Epoch 51/100\n",
            "1/1 [==============================] - 0s 11ms/step - loss: 10.6745 - mae: 10.6745\n",
            "Epoch 52/100\n",
            "1/1 [==============================] - 0s 12ms/step - loss: 10.6008 - mae: 10.6008\n",
            "Epoch 53/100\n",
            "1/1 [==============================] - 0s 19ms/step - loss: 10.5267 - mae: 10.5267\n",
            "Epoch 54/100\n",
            "1/1 [==============================] - 0s 12ms/step - loss: 10.4523 - mae: 10.4523\n",
            "Epoch 55/100\n",
            "1/1 [==============================] - 0s 16ms/step - loss: 10.3775 - mae: 10.3775\n",
            "Epoch 56/100\n",
            "1/1 [==============================] - 0s 12ms/step - loss: 10.3023 - mae: 10.3023\n",
            "Epoch 57/100\n",
            "1/1 [==============================] - 0s 13ms/step - loss: 10.2268 - mae: 10.2268\n",
            "Epoch 58/100\n",
            "1/1 [==============================] - 0s 13ms/step - loss: 10.1508 - mae: 10.1508\n",
            "Epoch 59/100\n",
            "1/1 [==============================] - 0s 10ms/step - loss: 10.0744 - mae: 10.0744\n",
            "Epoch 60/100\n",
            "1/1 [==============================] - 0s 11ms/step - loss: 9.9977 - mae: 9.9977\n",
            "Epoch 61/100\n",
            "1/1 [==============================] - 0s 13ms/step - loss: 9.9205 - mae: 9.9205\n",
            "Epoch 62/100\n",
            "1/1 [==============================] - 0s 11ms/step - loss: 9.8429 - mae: 9.8429\n",
            "Epoch 63/100\n",
            "1/1 [==============================] - 0s 17ms/step - loss: 9.7649 - mae: 9.7649\n",
            "Epoch 64/100\n",
            "1/1 [==============================] - 0s 12ms/step - loss: 9.6864 - mae: 9.6864\n",
            "Epoch 65/100\n",
            "1/1 [==============================] - 0s 14ms/step - loss: 9.6075 - mae: 9.6075\n",
            "Epoch 66/100\n",
            "1/1 [==============================] - 0s 17ms/step - loss: 9.5282 - mae: 9.5282\n",
            "Epoch 67/100\n",
            "1/1 [==============================] - 0s 15ms/step - loss: 9.4484 - mae: 9.4484\n",
            "Epoch 68/100\n",
            "1/1 [==============================] - 0s 17ms/step - loss: 9.3681 - mae: 9.3681\n",
            "Epoch 69/100\n",
            "1/1 [==============================] - 0s 12ms/step - loss: 9.2873 - mae: 9.2873\n",
            "Epoch 70/100\n",
            "1/1 [==============================] - 0s 14ms/step - loss: 9.2061 - mae: 9.2061\n",
            "Epoch 71/100\n",
            "1/1 [==============================] - 0s 11ms/step - loss: 9.1244 - mae: 9.1244\n",
            "Epoch 72/100\n",
            "1/1 [==============================] - 0s 10ms/step - loss: 9.0422 - mae: 9.0422\n",
            "Epoch 73/100\n",
            "1/1 [==============================] - 0s 16ms/step - loss: 8.9595 - mae: 8.9595\n",
            "Epoch 74/100\n",
            "1/1 [==============================] - 0s 10ms/step - loss: 8.8763 - mae: 8.8763\n",
            "Epoch 75/100\n",
            "1/1 [==============================] - 0s 16ms/step - loss: 8.7926 - mae: 8.7926\n",
            "Epoch 76/100\n",
            "1/1 [==============================] - 0s 11ms/step - loss: 8.7084 - mae: 8.7084\n",
            "Epoch 77/100\n",
            "1/1 [==============================] - 0s 11ms/step - loss: 8.6236 - mae: 8.6236\n",
            "Epoch 78/100\n",
            "1/1 [==============================] - 0s 16ms/step - loss: 8.5384 - mae: 8.5384\n",
            "Epoch 79/100\n",
            "1/1 [==============================] - 0s 11ms/step - loss: 8.4525 - mae: 8.4525\n",
            "Epoch 80/100\n",
            "1/1 [==============================] - 0s 13ms/step - loss: 8.3662 - mae: 8.3662\n",
            "Epoch 81/100\n",
            "1/1 [==============================] - 0s 10ms/step - loss: 8.2793 - mae: 8.2793\n",
            "Epoch 82/100\n",
            "1/1 [==============================] - 0s 11ms/step - loss: 8.1918 - mae: 8.1918\n",
            "Epoch 83/100\n",
            "1/1 [==============================] - 0s 11ms/step - loss: 8.1038 - mae: 8.1038\n",
            "Epoch 84/100\n",
            "1/1 [==============================] - 0s 10ms/step - loss: 8.0152 - mae: 8.0152\n",
            "Epoch 85/100\n",
            "1/1 [==============================] - 0s 10ms/step - loss: 7.9261 - mae: 7.9261\n",
            "Epoch 86/100\n",
            "1/1 [==============================] - 0s 11ms/step - loss: 7.8364 - mae: 7.8364\n",
            "Epoch 87/100\n",
            "1/1 [==============================] - 0s 10ms/step - loss: 7.7461 - mae: 7.7461\n",
            "Epoch 88/100\n",
            "1/1 [==============================] - 0s 10ms/step - loss: 7.6552 - mae: 7.6552\n",
            "Epoch 89/100\n",
            "1/1 [==============================] - 0s 11ms/step - loss: 7.5637 - mae: 7.5637\n",
            "Epoch 90/100\n",
            "1/1 [==============================] - 0s 12ms/step - loss: 7.4717 - mae: 7.4717\n",
            "Epoch 91/100\n",
            "1/1 [==============================] - 0s 22ms/step - loss: 7.3790 - mae: 7.3790\n",
            "Epoch 92/100\n",
            "1/1 [==============================] - 0s 21ms/step - loss: 7.2857 - mae: 7.2857\n",
            "Epoch 93/100\n",
            "1/1 [==============================] - 0s 17ms/step - loss: 7.1918 - mae: 7.1918\n",
            "Epoch 94/100\n",
            "1/1 [==============================] - 0s 16ms/step - loss: 7.0973 - mae: 7.0973\n",
            "Epoch 95/100\n",
            "1/1 [==============================] - 0s 10ms/step - loss: 7.0022 - mae: 7.0022\n",
            "Epoch 96/100\n",
            "1/1 [==============================] - 0s 13ms/step - loss: 6.9065 - mae: 6.9065\n",
            "Epoch 97/100\n",
            "1/1 [==============================] - 0s 13ms/step - loss: 6.8101 - mae: 6.8101\n",
            "Epoch 98/100\n",
            "1/1 [==============================] - 0s 13ms/step - loss: 6.7131 - mae: 6.7131\n",
            "Epoch 99/100\n",
            "1/1 [==============================] - 0s 14ms/step - loss: 6.6573 - mae: 6.6573\n",
            "Epoch 100/100\n",
            "1/1 [==============================] - 0s 12ms/step - loss: 6.6454 - mae: 6.6454\n"
          ]
        },
        {
          "output_type": "execute_result",
          "data": {
            "text/plain": [
              "<keras.src.callbacks.History at 0x794d2373a5c0>"
            ]
          },
          "metadata": {},
          "execution_count": 20
        }
      ]
    },
    {
      "cell_type": "code",
      "source": [
        "# Lets try to make a prediction\n",
        "\n",
        "model.predict([17.0])"
      ],
      "metadata": {
        "colab": {
          "base_uri": "https://localhost:8080/"
        },
        "id": "C6aI70bl-kSp",
        "outputId": "6d169a3f-05b2-448b-bd4a-fa368b532d5c"
      },
      "execution_count": 21,
      "outputs": [
        {
          "output_type": "stream",
          "name": "stdout",
          "text": [
            "1/1 [==============================] - 0s 88ms/step\n"
          ]
        },
        {
          "output_type": "execute_result",
          "data": {
            "text/plain": [
              "array([[29.825026]], dtype=float32)"
            ]
          },
          "metadata": {},
          "execution_count": 21
        }
      ]
    },
    {
      "cell_type": "markdown",
      "source": [
        "## Evaluating a model\n",
        "\n",
        "In practice, a typical workflow you will go through when building neural networks is:\n",
        "\n",
        "```\n",
        "Build a model -> fit it -> evaluate it -> tweak a model -> fit it -> evaluate it -> tweak a model -> fit it -> evaluate it...\n",
        "```\n",
        "\n",
        "\n"
      ],
      "metadata": {
        "id": "muz9Bglh-9NX"
      }
    },
    {
      "cell_type": "markdown",
      "source": [
        "When it comes to evaluation... there are 3 words you should memorize:\n",
        "\n",
        "# > \"Visualize, visualize, visualize\"\n",
        "\n",
        "It's a good idea to visualize:\n",
        "* The data - what data are we working with? What does it look like?\n",
        "* the model itself - what does our model look like?\n",
        "* The training of a model - how does a model perform while it learns?\n",
        "* The predictions of the model - how do the predictions of a model line up against the ground truth (the original labels)?"
      ],
      "metadata": {
        "id": "BBStAskOAzI_"
      }
    },
    {
      "cell_type": "code",
      "source": [
        "# Make a bigger data set\n",
        "x = tf.range(-100, 100, 4)\n",
        "x"
      ],
      "metadata": {
        "colab": {
          "base_uri": "https://localhost:8080/"
        },
        "id": "RVbgguPOB1LW",
        "outputId": "6844b8ed-3be4-40cd-d465-4ec3be501e37"
      },
      "execution_count": 22,
      "outputs": [
        {
          "output_type": "execute_result",
          "data": {
            "text/plain": [
              "<tf.Tensor: shape=(50,), dtype=int32, numpy=\n",
              "array([-100,  -96,  -92,  -88,  -84,  -80,  -76,  -72,  -68,  -64,  -60,\n",
              "        -56,  -52,  -48,  -44,  -40,  -36,  -32,  -28,  -24,  -20,  -16,\n",
              "        -12,   -8,   -4,    0,    4,    8,   12,   16,   20,   24,   28,\n",
              "         32,   36,   40,   44,   48,   52,   56,   60,   64,   68,   72,\n",
              "         76,   80,   84,   88,   92,   96], dtype=int32)>"
            ]
          },
          "metadata": {},
          "execution_count": 22
        }
      ]
    },
    {
      "cell_type": "code",
      "source": [
        "y = x + 10\n",
        "y"
      ],
      "metadata": {
        "colab": {
          "base_uri": "https://localhost:8080/"
        },
        "id": "2Y69e-JLCs8U",
        "outputId": "042c96e5-4c53-48df-da21-55ec1067368e"
      },
      "execution_count": 23,
      "outputs": [
        {
          "output_type": "execute_result",
          "data": {
            "text/plain": [
              "<tf.Tensor: shape=(50,), dtype=int32, numpy=\n",
              "array([-90, -86, -82, -78, -74, -70, -66, -62, -58, -54, -50, -46, -42,\n",
              "       -38, -34, -30, -26, -22, -18, -14, -10,  -6,  -2,   2,   6,  10,\n",
              "        14,  18,  22,  26,  30,  34,  38,  42,  46,  50,  54,  58,  62,\n",
              "        66,  70,  74,  78,  82,  86,  90,  94,  98, 102, 106], dtype=int32)>"
            ]
          },
          "metadata": {},
          "execution_count": 23
        }
      ]
    },
    {
      "cell_type": "code",
      "source": [
        "# Visualize the data\n",
        "import matplotlib.pyplot as plt\n",
        "plt.scatter(x, y)"
      ],
      "metadata": {
        "colab": {
          "base_uri": "https://localhost:8080/",
          "height": 447
        },
        "id": "FCmZkm5hC1AV",
        "outputId": "970db237-bcc0-4a70-bf0c-491a7a5ef228"
      },
      "execution_count": 24,
      "outputs": [
        {
          "output_type": "execute_result",
          "data": {
            "text/plain": [
              "<matplotlib.collections.PathCollection at 0x794d23642500>"
            ]
          },
          "metadata": {},
          "execution_count": 24
        },
        {
          "output_type": "display_data",
          "data": {
            "text/plain": [
              "<Figure size 640x480 with 1 Axes>"
            ],
            "image/png": "[encoded data removed]"
          },
          "metadata": {}
        }
      ]
    },
    {
      "cell_type": "markdown",
      "source": [
        "### The 3 sets ...\n",
        "\n",
        "* **Training Set** - the model learns from this data, which is typically 70-80% of the total data you have available.\n",
        "* **Validation set** - the model gets tuned on this data, which is typically 10-15% of the data available.\n",
        "* **Test set** - the model gets evaluated on this data to test what it has learned, this set is typically 10-15% of the total data available."
      ],
      "metadata": {
        "id": "BjWsZrH4DDdW"
      }
    },
    {
      "cell_type": "code",
      "source": [
        "# Check the length of how many samples we have\n",
        "len(x)"
      ],
      "metadata": {
        "colab": {
          "base_uri": "https://localhost:8080/"
        },
        "id": "iT2zreUxQNYR",
        "outputId": "6ef69c19-09b0-4d85-b164-2d98a5ea91c3"
      },
      "execution_count": 25,
      "outputs": [
        {
          "output_type": "execute_result",
          "data": {
            "text/plain": [
              "50"
            ]
          },
          "metadata": {},
          "execution_count": 25
        }
      ]
    },
    {
      "cell_type": "code",
      "source": [
        "# Split the data into train and tests set\n",
        "x_train = x[:40] # first 40 are training samples (80% of the data)\n",
        "y_train = y[:40]\n",
        "\n",
        "x_test = x[40:] # last 10 are testing samples (20% of the data)\n",
        "y_test = y[40:]\n",
        "\n",
        "len(x_train), len(x_test), len(y_train), len(y_test)\n"
      ],
      "metadata": {
        "colab": {
          "base_uri": "https://localhost:8080/"
        },
        "id": "xR09fIQtQzwU",
        "outputId": "b5815d1f-1f4d-46a4-9141-166db275c175"
      },
      "execution_count": 26,
      "outputs": [
        {
          "output_type": "execute_result",
          "data": {
            "text/plain": [
              "(40, 10, 40, 10)"
            ]
          },
          "metadata": {},
          "execution_count": 26
        }
      ]
    },
    {
      "cell_type": "markdown",
      "source": [
        "### Visualizing the data\n",
        "\n",
        "Now we have got our data in training and tests set... lets visualize it again!"
      ],
      "metadata": {
        "id": "T73S-On3RTvl"
      }
    },
    {
      "cell_type": "code",
      "source": [
        "plt.figure(figsize=(10, 7))\n",
        "# Plot training data in blue\n",
        "plt.scatter(x_train, y_train, c=\"b\", label=\"Training data\") # our model will learn on this\n",
        "# Plot test data in green\n",
        "plt.scatter(x_test, y_test, c=\"g\", label=\"Testing data\") # want our model to be able to predict this (given x, what's y?)\n",
        "# Show the legend\n",
        "plt.legend();"
      ],
      "metadata": {
        "colab": {
          "base_uri": "https://localhost:8080/",
          "height": 599
        },
        "id": "7aV51YsKSFcZ",
        "outputId": "8108b08d-3b76-45b6-a3ce-df1a19360d6a"
      },
      "execution_count": 27,
      "outputs": [
        {
          "output_type": "display_data",
          "data": {
            "text/plain": [
              "<Figure size 1000x700 with 1 Axes>"
            ],
            "image/png": "[encoded data removed]"
          },
          "metadata": {}
        }
      ]
    },
    {
      "cell_type": "code",
      "source": [
        "# Lets have a look at how to build a neural network for our data\n",
        "\n",
        "#1. Create a model\n",
        "model = tf.keras.Sequential([\n",
        "    tf.keras.layers.Dense(1)\n",
        "])\n",
        "\n",
        "#2. Compile the model\n",
        "model.compile(loss=tf.keras.losses.mae,\n",
        "              optimizer=tf.keras.optimizers.SGD(),\n",
        "              metrics=[\"mae\"])\n",
        "\n",
        "#3. Fit the model\n",
        "# model.fit(x_train, y_train, epochs=100)"
      ],
      "metadata": {
        "id": "HVvsAH0hSlvs"
      },
      "execution_count": 28,
      "outputs": []
    },
    {
      "cell_type": "code",
      "source": [
        "# Lets create a model which builds automatically by defining the input_shape argument in the first layer\n",
        "tf.random.set_seed(42)\n",
        "\n",
        "# 1. Create a model (same as above)\n",
        "model = tf.keras.Sequential([\n",
        "  tf.keras.layers.Dense(10, input_shape=[1], name=\"input_layer\"),\n",
        "  tf.keras.layers.Dense(10),\n",
        "  tf.keras.layers.Dense(10),\n",
        "  tf.keras.layers.Dense(1, name=\"output_layer\")\n",
        "], name=\"model_1\")\n",
        "\n",
        "# 2. Compile the model\n",
        "model.compile(loss=tf.keras.losses.mae,\n",
        "              optimizer=tf.keras.optimizers.Adam(learning_rate=0.0001),\n",
        "              metrics=[\"mae\"])"
      ],
      "metadata": {
        "id": "A0bkLjvIOPV5"
      },
      "execution_count": 29,
      "outputs": []
    },
    {
      "cell_type": "code",
      "source": [
        "model.summary()"
      ],
      "metadata": {
        "colab": {
          "base_uri": "https://localhost:8080/"
        },
        "id": "xn0FEpKnPsWc",
        "outputId": "7a0892fd-a516-4362-d4d2-35b6ad155d41"
      },
      "execution_count": 30,
      "outputs": [
        {
          "output_type": "stream",
          "name": "stdout",
          "text": [
            "Model: \"model_1\"\n",
            "_________________________________________________________________\n",
            " Layer (type)                Output Shape              Param #   \n",
            "=================================================================\n",
            " input_layer (Dense)         (None, 10)                20        \n",
            "                                                                 \n",
            " dense_5 (Dense)             (None, 10)                110       \n",
            "                                                                 \n",
            " dense_6 (Dense)             (None, 10)                110       \n",
            "                                                                 \n",
            " output_layer (Dense)        (None, 1)                 11        \n",
            "                                                                 \n",
            "=================================================================\n",
            "Total params: 251 (1004.00 Byte)\n",
            "Trainable params: 251 (1004.00 Byte)\n",
            "Non-trainable params: 0 (0.00 Byte)\n",
            "_________________________________________________________________\n"
          ]
        }
      ]
    },
    {
      "cell_type": "markdown",
      "source": [
        "* Total Params - total number of parameters in the model.\n",
        "* Trainable Params - these are the parameters (patterns) the model can update as it trains.\n",
        "* Non-trainable params - these parameters aren't updated during training (this is typical when you bring in the already learned patterns or parameters from other models during **transfer learning**)."
      ],
      "metadata": {
        "id": "dOr7fgLBPuc8"
      }
    },
    {
      "cell_type": "code",
      "source": [
        "# Lets fit our model to the training data\n",
        "model.fit(x_train, y_train, epochs=1000, verbose=0)"
      ],
      "metadata": {
        "colab": {
          "base_uri": "https://localhost:8080/"
        },
        "id": "-7uWppwNdyx5",
        "outputId": "92301bc1-d78a-45fa-d341-60e2257f5744"
      },
      "execution_count": 31,
      "outputs": [
        {
          "output_type": "execute_result",
          "data": {
            "text/plain": [
              "<keras.src.callbacks.History at 0x794d230c1180>"
            ]
          },
          "metadata": {},
          "execution_count": 31
        }
      ]
    },
    {
      "cell_type": "code",
      "source": [
        "# Get the summary of the model\n",
        "model.summary()"
      ],
      "metadata": {
        "colab": {
          "base_uri": "https://localhost:8080/"
        },
        "id": "TAgLsgpOfR_c",
        "outputId": "02f38573-ed4d-4a02-e848-2c8d7ecc3a1f"
      },
      "execution_count": 32,
      "outputs": [
        {
          "output_type": "stream",
          "name": "stdout",
          "text": [
            "Model: \"model_1\"\n",
            "_________________________________________________________________\n",
            " Layer (type)                Output Shape              Param #   \n",
            "=================================================================\n",
            " input_layer (Dense)         (None, 10)                20        \n",
            "                                                                 \n",
            " dense_5 (Dense)             (None, 10)                110       \n",
            "                                                                 \n",
            " dense_6 (Dense)             (None, 10)                110       \n",
            "                                                                 \n",
            " output_layer (Dense)        (None, 1)                 11        \n",
            "                                                                 \n",
            "=================================================================\n",
            "Total params: 251 (1004.00 Byte)\n",
            "Trainable params: 251 (1004.00 Byte)\n",
            "Non-trainable params: 0 (0.00 Byte)\n",
            "_________________________________________________________________\n"
          ]
        }
      ]
    },
    {
      "cell_type": "code",
      "source": [
        "from tensorflow.keras.utils import plot_model\n",
        "plot_model(model=model, show_shapes=True)"
      ],
      "metadata": {
        "colab": {
          "base_uri": "https://localhost:8080/",
          "height": 533
        },
        "id": "JXE1iOOJgHyI",
        "outputId": "27776b9a-986f-4f30-a5d8-9374224aa7b6"
      },
      "execution_count": 33,
      "outputs": [
        {
          "output_type": "execute_result",
          "data": {
            "image/png": "[encoded data removed]",
            "text/plain": [
              "<IPython.core.display.Image object>"
            ]
          },
          "metadata": {},
          "execution_count": 33
        }
      ]
    },
    {
      "cell_type": "markdown",
      "source": [
        "### Visualizing our model's predictions\n",
        "\n",
        "To visualize the predictions, it is a good idea to plot them against the ground truth labels.\n",
        "\n",
        "Often you will see this in the form of `y_test` or `y_true` versus `y_preds` (ground truth versus your model's predictions)."
      ],
      "metadata": {
        "id": "K1vh3NRsjSIv"
      }
    },
    {
      "cell_type": "code",
      "source": [
        " # Make some predictions\n",
        "y_preds = model.predict(x_test)\n",
        "y_preds"
      ],
      "metadata": {
        "colab": {
          "base_uri": "https://localhost:8080/"
        },
        "id": "ga-A1KJWktQy",
        "outputId": "b33c3bcc-4a98-452c-d222-e82893d9007b"
      },
      "execution_count": 34,
      "outputs": [
        {
          "output_type": "stream",
          "name": "stdout",
          "text": [
            "1/1 [==============================] - 0s 70ms/step\n"
          ]
        },
        {
          "output_type": "execute_result",
          "data": {
            "text/plain": [
              "array([[56.67016 ],\n",
              "       [60.291267],\n",
              "       [63.91237 ],\n",
              "       [67.53348 ],\n",
              "       [71.15459 ],\n",
              "       [74.775696],\n",
              "       [78.3968  ],\n",
              "       [82.0179  ],\n",
              "       [85.63901 ],\n",
              "       [89.26012 ]], dtype=float32)"
            ]
          },
          "metadata": {},
          "execution_count": 34
        }
      ]
    },
    {
      "cell_type": "code",
      "source": [
        "y_test"
      ],
      "metadata": {
        "colab": {
          "base_uri": "https://localhost:8080/"
        },
        "id": "_xGUHal9l4JP",
        "outputId": "0d78af2e-235e-4a6f-cf24-c19cc5827a55"
      },
      "execution_count": 35,
      "outputs": [
        {
          "output_type": "execute_result",
          "data": {
            "text/plain": [
              "<tf.Tensor: shape=(10,), dtype=int32, numpy=array([ 70,  74,  78,  82,  86,  90,  94,  98, 102, 106], dtype=int32)>"
            ]
          },
          "metadata": {},
          "execution_count": 35
        }
      ]
    },
    {
      "cell_type": "code",
      "source": [
        "# Lets create a plotting function\n",
        "def plot_predictions(train_data=x_train,\n",
        "                     train_labels=y_train,\n",
        "                     test_data=x_test,\n",
        "                     test_labels=y_test,\n",
        "                     predictions=y_preds):\n",
        "  \"\"\"\n",
        "  Plots training data, test data and compares predictions to ground truth labels\n",
        "  \"\"\"\n",
        "  plt.figure(figsize=(10, 7))\n",
        "  #Plot training data in blue\n",
        "  plt.scatter(train_data, train_labels, c=\"b\", label=\"Training data\")\n",
        "  # Plot test data in green\n",
        "  plt.scatter(test_data, test_labels, c=\"g\", label=\"Testing data\") # want our model to be able to predict this (given x, what's y?)\n",
        "  # Plot the predictions in red (predictions were made on the test data)\n",
        "  plt.scatter(test_data, predictions, c=\"r\", label=\"Predictions\")\n",
        "  # Show the legend\n",
        "  plt.legend();"
      ],
      "metadata": {
        "id": "Gcgr8Hwwl6dV"
      },
      "execution_count": 36,
      "outputs": []
    },
    {
      "cell_type": "code",
      "source": [
        "plot_predictions()"
      ],
      "metadata": {
        "id": "P7S5gtWMPia_",
        "colab": {
          "base_uri": "https://localhost:8080/",
          "height": 599
        },
        "outputId": "a258e9ab-4bd3-415d-99a9-c6658736d578"
      },
      "execution_count": 37,
      "outputs": [
        {
          "output_type": "display_data",
          "data": {
            "text/plain": [
              "<Figure size 1000x700 with 1 Axes>"
            ],
            "image/png": "[encoded data removed]"
          },
          "metadata": {}
        }
      ]
    },
    {
      "cell_type": "markdown",
      "source": [
        "### Evaluating our model's predictions with regression evalution metrics\n",
        "\n",
        "Depending on the problem you are working on, there will be different evaluation metrics to evaluate your model's performance.\n",
        "\n",
        "Since we are working on a regression, two of the main metrics:\n",
        "* MAE - mean absolute error, \"on average, how wrong is each of my model's predictions\"\n",
        "* MSE - mean square error, \"square the average errors\""
      ],
      "metadata": {
        "id": "HcfCfs1k_Tzc"
      }
    },
    {
      "cell_type": "code",
      "source": [
        "# Evaluate the model on the test\n",
        "o= model.evaluate(x_test, y_test)"
      ],
      "metadata": {
        "id": "QS6dcWgB_6v8",
        "colab": {
          "base_uri": "https://localhost:8080/"
        },
        "outputId": "7bf77117-efdd-4367-f2df-0d9d26078ed8"
      },
      "execution_count": 38,
      "outputs": [
        {
          "output_type": "stream",
          "name": "stdout",
          "text": [
            "1/1 [==============================] - 0s 175ms/step - loss: 15.0349 - mae: 15.0349\n"
          ]
        }
      ]
    },
    {
      "cell_type": "code",
      "source": [
        "# Calculate the mean absolute error\n",
        "mae = tf.metrics.mean_absolute_error(y_true=y_test,\n",
        "                                     y_pred=y_pred)\n",
        "mae"
      ],
      "metadata": {
        "colab": {
          "base_uri": "https://localhost:8080/"
        },
        "id": "E2Li6vWj54uC",
        "outputId": "c08abe85-5660-41b0-d64f-d6d43c1ebdb9"
      },
      "execution_count": 39,
      "outputs": [
        {
          "output_type": "execute_result",
          "data": {
            "text/plain": [
              "<tf.Tensor: shape=(1,), dtype=float32, numpy=array([92.35352], dtype=float32)>"
            ]
          },
          "metadata": {},
          "execution_count": 39
        }
      ]
    },
    {
      "cell_type": "code",
      "source": [],
      "metadata": {
        "id": "l2Qr3IHI6vLX"
      },
      "execution_count": 39,
      "outputs": []
    }
  ]
}